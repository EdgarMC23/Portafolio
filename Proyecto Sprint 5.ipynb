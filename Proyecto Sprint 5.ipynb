{
 "cells": [
  {
   "cell_type": "markdown",
   "metadata": {},
   "source": [
    "# ¡Hola Edgar! 😊\n",
    "\n",
    "Mi nombre es **Alejandro Castellanos** y hoy tengo el placer de ser el revisor de tu proyecto.\n",
    "\n",
    "Voy a revisar todo tu código con detalle, buscando tanto los puntos fuertes como aquellos en los que podrías mejorar. Te dejaré comentarios a lo largo del notebook, destacando lo que has hecho bien y sugiriendo ajustes donde sea necesario. Si encuentro algún error, no te preocupes, te lo haré saber de forma clara y te daré información útil para que puedas corregirlo en la próxima iteración. Si en algún punto tienes comentarios, siéntete libre de dejarlos también.\n",
    "\n",
    "\n",
    "Encontrarás mis comentarios específicos dentro de cajas verdes, amarillas o rojas, es muy importante que no muevas, modifiques o borres mis comentarios, con el fin de tener un seguimiento adecuado de tu proceso:\n",
    "\n",
    "\n",
    "<div class=\"alert alert-block alert-success\">\n",
    "<b>Comentario del revisor</b> <a class=“tocSkip”></a>\n",
    "Si todo está perfecto.\n",
    "</div>\n",
    "\n",
    "<div class=\"alert alert-block alert-warning\">\n",
    "<b>Comentario del revisor</b> <a class=“tocSkip”></a>\n",
    "Si tu código está bien pero se puede mejorar o hay algún detalle que le hace falta.\n",
    "</div>\n",
    "\n",
    "<div class=\"alert alert-block alert-danger\">\n",
    "<b>Comentario del revisor</b> <a class=“tocSkip”></a>\n",
    "Si de pronto hace falta algo o existe algún problema con tu código o conclusiones.\n",
    "</div>\n",
    "\n",
    "Puedes responderme de esta forma:\n",
    "<div class=\"alert alert-block alert-info\">\n",
    "<b>Respuesta del estudiante</b> <a class=“tocSkip”></a>\n",
    "</div>\n",
    "\n",
    "A continuación te dejaré un comentario general con mi valoración del proyecto. **¡Mi objetivo es que sigas aprendiendo y mejorando con cada paso!**\n"
   ]
  },
  {
   "cell_type": "markdown",
   "metadata": {},
   "source": [
    "-----"
   ]
  },
  {
   "cell_type": "markdown",
   "metadata": {},
   "source": [
    "<div class=\"alert alert-block alert-success\">\n",
    "<b>Comentario del revisor (1ra Iteración)</b> <a class=“tocSkip”></a>\n",
    "\n",
    "Edgar gran trabajo completando este proyecto. Has demostrado habilidades avanzadas en análisis de información, integración y manejo de múltiples datasets, así como un uso efectivo de visualizaciones que enriquecen la presentación de los hallazgos, haciendo que los datos sean claros y fáciles de interpretar. \n",
    "\n",
    "En el apartado de las pruebas de hipótesis aunque, de manera general, la implementación es correcta, para futuros análisis te recomiendo incluir una etapa previa con la prueba de Levene con el fin de verificar la igualdad de varianzas, lo cual contribuye a asegurar la validez estadística de los resultados.\n",
    "\n",
    "Este proyecto refleja tu dominio en procesamiento y visualización de datos, y tu capacidad para obtener conclusiones relevantes que aportan valor a la toma de decisiones. Lograste un equilibrio excelente entre habilidades técnicas, analíticas y estratégicas.\n",
    "\n",
    "Éxitos en tu próximo Sprint 🚀\n",
    "\n",
    "*Estado del Proyecto:* **Aprobado**\n",
    "\n",
    "</div>"
   ]
  },
  {
   "cell_type": "markdown",
   "metadata": {},
   "source": [
    "------"
   ]
  },
  {
   "cell_type": "markdown",
   "metadata": {
    "id": "3rYiDeEH0q0f"
   },
   "source": [
    "# ¿Cuál es la mejor tarifa?\n",
    "\n",
    "Trabajas como analista para el operador de telecomunicaciones Megaline. La empresa ofrece a sus clientes dos tarifas de prepago, Surf y Ultimate. El departamento comercial quiere saber cuál de las tarifas genera más ingresos para poder ajustar el presupuesto de publicidad.\n",
    "\n",
    "Vas a realizar un análisis preliminar de las tarifas basado en una selección de clientes relativamente pequeña. Tendrás los datos de 500 clientes de Megaline: quiénes son los clientes, de dónde son, qué tarifa usan, así como la cantidad de llamadas que hicieron y los mensajes de texto que enviaron en 2018. Tu trabajo es analizar el comportamiento de los clientes y determinar qué tarifa de prepago genera más ingresos."
   ]
  },
  {
   "cell_type": "markdown",
   "metadata": {
    "id": "VNddPNRQ0q0w"
   },
   "source": [
    "**Plan de solución**\n",
    "\n",
    "Primero tenemos que leer los datos y analizar cada DataFrame para ver posibles oportunidades y despues si es necesario limpiar los datos para tener una buena interpretacion de los resultados.\n",
    "\n",
    "Despues pasamos al analisis de los resultados obtenidos para poder plantear nuestra hipotesis y por ultimo probar dicha hipotesis para poder tomar una decision asertiva."
   ]
  },
  {
   "cell_type": "markdown",
   "metadata": {
    "id": "MQi4IPy70q0y"
   },
   "source": [
    "## Inicialización"
   ]
  },
  {
   "cell_type": "code",
   "execution_count": 1,
   "metadata": {
    "id": "MtYIuBxu0q0z"
   },
   "outputs": [],
   "source": [
    "# Cargar todas las librerías\n",
    "import pandas as pd\n",
    "import numpy as np\n",
    "from scipy import stats as st\n",
    "\n",
    "\n",
    "\n"
   ]
  },
  {
   "cell_type": "markdown",
   "metadata": {
    "id": "4ysWWC5i0q00"
   },
   "source": [
    "## Cargar datos"
   ]
  },
  {
   "cell_type": "code",
   "execution_count": 2,
   "metadata": {
    "id": "CCqPW7rS0q01"
   },
   "outputs": [],
   "source": [
    "# Carga los archivos de datos en diferentes DataFrames\n",
    "users = pd.read_csv(\"/datasets/megaline_users.csv\")\n",
    "calls = pd.read_csv(\"/datasets/megaline_calls.csv\")\n",
    "messages = pd.read_csv(\"/datasets/megaline_messages.csv\")\n",
    "internet = pd.read_csv(\"/datasets/megaline_internet.csv\")\n",
    "plans = pd.read_csv(\"/datasets/megaline_plans.csv\")\n",
    "\n"
   ]
  },
  {
   "cell_type": "markdown",
   "metadata": {
    "id": "69qqoJ3r0q01"
   },
   "source": [
    "## Preparar los datos"
   ]
  },
  {
   "cell_type": "markdown",
   "metadata": {
    "id": "ohBhimvH0q01"
   },
   "source": [
    "## Tarifas"
   ]
  },
  {
   "cell_type": "code",
   "execution_count": 3,
   "metadata": {
    "id": "GptqP3Q40q02"
   },
   "outputs": [
    {
     "name": "stdout",
     "output_type": "stream",
     "text": [
      "<class 'pandas.core.frame.DataFrame'>\n",
      "RangeIndex: 2 entries, 0 to 1\n",
      "Data columns (total 8 columns):\n",
      " #   Column                 Non-Null Count  Dtype  \n",
      "---  ------                 --------------  -----  \n",
      " 0   messages_included      2 non-null      int64  \n",
      " 1   mb_per_month_included  2 non-null      int64  \n",
      " 2   minutes_included       2 non-null      int64  \n",
      " 3   usd_monthly_pay        2 non-null      int64  \n",
      " 4   usd_per_gb             2 non-null      int64  \n",
      " 5   usd_per_message        2 non-null      float64\n",
      " 6   usd_per_minute         2 non-null      float64\n",
      " 7   plan_name              2 non-null      object \n",
      "dtypes: float64(2), int64(5), object(1)\n",
      "memory usage: 256.0+ bytes\n"
     ]
    }
   ],
   "source": [
    "# Imprime la información general/resumida sobre el DataFrame de las tarifas\n",
    "plans.info()\n"
   ]
  },
  {
   "cell_type": "code",
   "execution_count": 4,
   "metadata": {
    "id": "64xzjwL70q02"
   },
   "outputs": [
    {
     "data": {
      "text/html": [
       "<div>\n",
       "<style scoped>\n",
       "    .dataframe tbody tr th:only-of-type {\n",
       "        vertical-align: middle;\n",
       "    }\n",
       "\n",
       "    .dataframe tbody tr th {\n",
       "        vertical-align: top;\n",
       "    }\n",
       "\n",
       "    .dataframe thead th {\n",
       "        text-align: right;\n",
       "    }\n",
       "</style>\n",
       "<table border=\"1\" class=\"dataframe\">\n",
       "  <thead>\n",
       "    <tr style=\"text-align: right;\">\n",
       "      <th></th>\n",
       "      <th>messages_included</th>\n",
       "      <th>mb_per_month_included</th>\n",
       "      <th>minutes_included</th>\n",
       "      <th>usd_monthly_pay</th>\n",
       "      <th>usd_per_gb</th>\n",
       "      <th>usd_per_message</th>\n",
       "      <th>usd_per_minute</th>\n",
       "      <th>plan_name</th>\n",
       "    </tr>\n",
       "  </thead>\n",
       "  <tbody>\n",
       "    <tr>\n",
       "      <th>0</th>\n",
       "      <td>50</td>\n",
       "      <td>15360</td>\n",
       "      <td>500</td>\n",
       "      <td>20</td>\n",
       "      <td>10</td>\n",
       "      <td>0.03</td>\n",
       "      <td>0.03</td>\n",
       "      <td>surf</td>\n",
       "    </tr>\n",
       "    <tr>\n",
       "      <th>1</th>\n",
       "      <td>1000</td>\n",
       "      <td>30720</td>\n",
       "      <td>3000</td>\n",
       "      <td>70</td>\n",
       "      <td>7</td>\n",
       "      <td>0.01</td>\n",
       "      <td>0.01</td>\n",
       "      <td>ultimate</td>\n",
       "    </tr>\n",
       "  </tbody>\n",
       "</table>\n",
       "</div>"
      ],
      "text/plain": [
       "   messages_included  mb_per_month_included  minutes_included  \\\n",
       "0                 50                  15360               500   \n",
       "1               1000                  30720              3000   \n",
       "\n",
       "   usd_monthly_pay  usd_per_gb  usd_per_message  usd_per_minute plan_name  \n",
       "0               20          10             0.03            0.03      surf  \n",
       "1               70           7             0.01            0.01  ultimate  "
      ]
     },
     "execution_count": 4,
     "metadata": {},
     "output_type": "execute_result"
    }
   ],
   "source": [
    "# Imprime una muestra de los datos para las tarifas\n",
    "plans\n"
   ]
  },
  {
   "cell_type": "markdown",
   "metadata": {
    "id": "mEc_3_hs0q02"
   },
   "source": [
    "Para el DataFrame de tarifas los datos estan correctos, no hay datos ausentes y cada columna tiene su tipo de datos correctos.\n",
    "\n",
    "Lo unico que yo haria seria cambiar la columna de [plan_name] para al inicio y no al final."
   ]
  },
  {
   "cell_type": "markdown",
   "metadata": {
    "collapsed": false,
    "id": "R3C05i1l0q03",
    "jupyter": {
     "outputs_hidden": false
    }
   },
   "source": [
    "## Corregir datos"
   ]
  },
  {
   "cell_type": "markdown",
   "metadata": {
    "id": "Y7SVmjGn0q03"
   },
   "source": [
    "No hay datos que corregir"
   ]
  },
  {
   "cell_type": "markdown",
   "metadata": {
    "id": "LJir7bml0q03"
   },
   "source": [
    "## Enriquecer los datos"
   ]
  },
  {
   "cell_type": "code",
   "execution_count": 5,
   "metadata": {
    "id": "gfcIEuXV0q04"
   },
   "outputs": [],
   "source": [
    "#cambiar la columna plan_name para al inicio\n",
    "plans = plans.reindex(columns=[\"plan_name\", \"messages_included\", \"mb_per_month_included\", \"minutes_included\", \"usd_monthly_pay\", \"usd_per_gb\",\"usd_per_message\",\"usd_per_minute\"])\n"
   ]
  },
  {
   "cell_type": "markdown",
   "metadata": {
    "id": "1n2X6WXf0q04"
   },
   "source": [
    "## Usuarios/as"
   ]
  },
  {
   "cell_type": "code",
   "execution_count": 6,
   "metadata": {
    "id": "2NgjWFqx0q05"
   },
   "outputs": [
    {
     "name": "stdout",
     "output_type": "stream",
     "text": [
      "<class 'pandas.core.frame.DataFrame'>\n",
      "RangeIndex: 500 entries, 0 to 499\n",
      "Data columns (total 8 columns):\n",
      " #   Column      Non-Null Count  Dtype \n",
      "---  ------      --------------  ----- \n",
      " 0   user_id     500 non-null    int64 \n",
      " 1   first_name  500 non-null    object\n",
      " 2   last_name   500 non-null    object\n",
      " 3   age         500 non-null    int64 \n",
      " 4   city        500 non-null    object\n",
      " 5   reg_date    500 non-null    object\n",
      " 6   plan        500 non-null    object\n",
      " 7   churn_date  34 non-null     object\n",
      "dtypes: int64(2), object(6)\n",
      "memory usage: 31.4+ KB\n"
     ]
    }
   ],
   "source": [
    "# Imprime la información general/resumida sobre el DataFrame de usuarios\n",
    "users.info()\n"
   ]
  },
  {
   "cell_type": "code",
   "execution_count": 7,
   "metadata": {
    "id": "1IN1L9uh0q05"
   },
   "outputs": [
    {
     "data": {
      "text/html": [
       "<div>\n",
       "<style scoped>\n",
       "    .dataframe tbody tr th:only-of-type {\n",
       "        vertical-align: middle;\n",
       "    }\n",
       "\n",
       "    .dataframe tbody tr th {\n",
       "        vertical-align: top;\n",
       "    }\n",
       "\n",
       "    .dataframe thead th {\n",
       "        text-align: right;\n",
       "    }\n",
       "</style>\n",
       "<table border=\"1\" class=\"dataframe\">\n",
       "  <thead>\n",
       "    <tr style=\"text-align: right;\">\n",
       "      <th></th>\n",
       "      <th>user_id</th>\n",
       "      <th>first_name</th>\n",
       "      <th>last_name</th>\n",
       "      <th>age</th>\n",
       "      <th>city</th>\n",
       "      <th>reg_date</th>\n",
       "      <th>plan</th>\n",
       "      <th>churn_date</th>\n",
       "    </tr>\n",
       "  </thead>\n",
       "  <tbody>\n",
       "    <tr>\n",
       "      <th>477</th>\n",
       "      <td>1477</td>\n",
       "      <td>Magaly</td>\n",
       "      <td>Rivas</td>\n",
       "      <td>52</td>\n",
       "      <td>Riverside-San Bernardino-Ontario, CA MSA</td>\n",
       "      <td>2018-08-24</td>\n",
       "      <td>ultimate</td>\n",
       "      <td>NaN</td>\n",
       "    </tr>\n",
       "    <tr>\n",
       "      <th>309</th>\n",
       "      <td>1309</td>\n",
       "      <td>Winfred</td>\n",
       "      <td>Zimmerman</td>\n",
       "      <td>19</td>\n",
       "      <td>San Diego-Chula Vista-Carlsbad, CA MSA</td>\n",
       "      <td>2018-07-04</td>\n",
       "      <td>surf</td>\n",
       "      <td>NaN</td>\n",
       "    </tr>\n",
       "    <tr>\n",
       "      <th>124</th>\n",
       "      <td>1124</td>\n",
       "      <td>Jenell</td>\n",
       "      <td>Navarro</td>\n",
       "      <td>48</td>\n",
       "      <td>New Haven-Milford, CT MSA</td>\n",
       "      <td>2018-02-19</td>\n",
       "      <td>ultimate</td>\n",
       "      <td>NaN</td>\n",
       "    </tr>\n",
       "    <tr>\n",
       "      <th>440</th>\n",
       "      <td>1440</td>\n",
       "      <td>France</td>\n",
       "      <td>Barrett</td>\n",
       "      <td>49</td>\n",
       "      <td>Nashville-Davidson–Murfreesboro–Franklin, TN MSA</td>\n",
       "      <td>2018-04-16</td>\n",
       "      <td>surf</td>\n",
       "      <td>NaN</td>\n",
       "    </tr>\n",
       "    <tr>\n",
       "      <th>401</th>\n",
       "      <td>1401</td>\n",
       "      <td>Charmain</td>\n",
       "      <td>Bryant</td>\n",
       "      <td>67</td>\n",
       "      <td>Richmond, VA MSA</td>\n",
       "      <td>2018-08-24</td>\n",
       "      <td>ultimate</td>\n",
       "      <td>NaN</td>\n",
       "    </tr>\n",
       "    <tr>\n",
       "      <th>221</th>\n",
       "      <td>1221</td>\n",
       "      <td>Mckenzie</td>\n",
       "      <td>Wilkinson</td>\n",
       "      <td>18</td>\n",
       "      <td>Boston-Cambridge-Newton, MA-NH MSA</td>\n",
       "      <td>2018-12-17</td>\n",
       "      <td>surf</td>\n",
       "      <td>NaN</td>\n",
       "    </tr>\n",
       "    <tr>\n",
       "      <th>257</th>\n",
       "      <td>1257</td>\n",
       "      <td>Gabriel</td>\n",
       "      <td>O'donnell</td>\n",
       "      <td>61</td>\n",
       "      <td>New York-Newark-Jersey City, NY-NJ-PA MSA</td>\n",
       "      <td>2018-01-29</td>\n",
       "      <td>surf</td>\n",
       "      <td>NaN</td>\n",
       "    </tr>\n",
       "    <tr>\n",
       "      <th>151</th>\n",
       "      <td>1151</td>\n",
       "      <td>Ralph</td>\n",
       "      <td>Monroe</td>\n",
       "      <td>21</td>\n",
       "      <td>New York-Newark-Jersey City, NY-NJ-PA MSA</td>\n",
       "      <td>2018-03-20</td>\n",
       "      <td>surf</td>\n",
       "      <td>NaN</td>\n",
       "    </tr>\n",
       "    <tr>\n",
       "      <th>27</th>\n",
       "      <td>1027</td>\n",
       "      <td>Georgeanna</td>\n",
       "      <td>Cardenas</td>\n",
       "      <td>38</td>\n",
       "      <td>New York-Newark-Jersey City, NY-NJ-PA MSA</td>\n",
       "      <td>2018-06-26</td>\n",
       "      <td>surf</td>\n",
       "      <td>NaN</td>\n",
       "    </tr>\n",
       "    <tr>\n",
       "      <th>410</th>\n",
       "      <td>1410</td>\n",
       "      <td>Wendell</td>\n",
       "      <td>Lloyd</td>\n",
       "      <td>46</td>\n",
       "      <td>Los Angeles-Long Beach-Anaheim, CA MSA</td>\n",
       "      <td>2018-10-06</td>\n",
       "      <td>surf</td>\n",
       "      <td>NaN</td>\n",
       "    </tr>\n",
       "  </tbody>\n",
       "</table>\n",
       "</div>"
      ],
      "text/plain": [
       "     user_id  first_name  last_name  age  \\\n",
       "477     1477      Magaly      Rivas   52   \n",
       "309     1309     Winfred  Zimmerman   19   \n",
       "124     1124      Jenell    Navarro   48   \n",
       "440     1440      France    Barrett   49   \n",
       "401     1401    Charmain     Bryant   67   \n",
       "221     1221    Mckenzie  Wilkinson   18   \n",
       "257     1257     Gabriel  O'donnell   61   \n",
       "151     1151       Ralph     Monroe   21   \n",
       "27      1027  Georgeanna   Cardenas   38   \n",
       "410     1410     Wendell      Lloyd   46   \n",
       "\n",
       "                                                 city    reg_date      plan  \\\n",
       "477          Riverside-San Bernardino-Ontario, CA MSA  2018-08-24  ultimate   \n",
       "309            San Diego-Chula Vista-Carlsbad, CA MSA  2018-07-04      surf   \n",
       "124                         New Haven-Milford, CT MSA  2018-02-19  ultimate   \n",
       "440  Nashville-Davidson–Murfreesboro–Franklin, TN MSA  2018-04-16      surf   \n",
       "401                                  Richmond, VA MSA  2018-08-24  ultimate   \n",
       "221                Boston-Cambridge-Newton, MA-NH MSA  2018-12-17      surf   \n",
       "257         New York-Newark-Jersey City, NY-NJ-PA MSA  2018-01-29      surf   \n",
       "151         New York-Newark-Jersey City, NY-NJ-PA MSA  2018-03-20      surf   \n",
       "27          New York-Newark-Jersey City, NY-NJ-PA MSA  2018-06-26      surf   \n",
       "410            Los Angeles-Long Beach-Anaheim, CA MSA  2018-10-06      surf   \n",
       "\n",
       "    churn_date  \n",
       "477        NaN  \n",
       "309        NaN  \n",
       "124        NaN  \n",
       "440        NaN  \n",
       "401        NaN  \n",
       "221        NaN  \n",
       "257        NaN  \n",
       "151        NaN  \n",
       "27         NaN  \n",
       "410        NaN  "
      ]
     },
     "execution_count": 7,
     "metadata": {},
     "output_type": "execute_result"
    }
   ],
   "source": [
    "# Imprime una muestra de datos para usuarios\n",
    "users.sample(10)\n"
   ]
  },
  {
   "cell_type": "markdown",
   "metadata": {
    "id": "dCZoUq4f0q06"
   },
   "source": [
    "A primera vista se puede notar que la mayoria de los datos en la columna [churn_date] estan ausentes pero esto es porque la tarifa se estaba usando cuando fue extraída esta base de datos, asi que asi lo dejamos.\n",
    "\n",
    "Lo que si se tiene que cambiar es el tipo de datos de las columnas [user_id] a tipo de dato object y las columnas [reg_date] y [churn_date] a tipo de dato datetime64[ns]."
   ]
  },
  {
   "cell_type": "markdown",
   "metadata": {
    "id": "BX5FQh_I0q06"
   },
   "source": [
    "### Corregir los datos"
   ]
  },
  {
   "cell_type": "code",
   "execution_count": 8,
   "metadata": {
    "id": "yUqX-K0C0q07"
   },
   "outputs": [],
   "source": [
    "users[\"user_id\"]= users[\"user_id\"].astype(str) # Cambio de tipo de datos a object\n",
    "users[\"reg_date\"] = pd.to_datetime(users[\"reg_date\"]) # Cambio de tipo de datos a datetime64[ns]\n",
    "users[\"churn_date\"] = pd.to_datetime(users[\"churn_date\"]) # Cambio de tipo de datos a datetime64[ns]"
   ]
  },
  {
   "cell_type": "markdown",
   "metadata": {
    "id": "o7MeKCid0q08"
   },
   "source": [
    "## Llamadas"
   ]
  },
  {
   "cell_type": "code",
   "execution_count": 9,
   "metadata": {
    "id": "6dDlnoDm0q08"
   },
   "outputs": [
    {
     "name": "stdout",
     "output_type": "stream",
     "text": [
      "<class 'pandas.core.frame.DataFrame'>\n",
      "RangeIndex: 137735 entries, 0 to 137734\n",
      "Data columns (total 4 columns):\n",
      " #   Column     Non-Null Count   Dtype  \n",
      "---  ------     --------------   -----  \n",
      " 0   id         137735 non-null  object \n",
      " 1   user_id    137735 non-null  int64  \n",
      " 2   call_date  137735 non-null  object \n",
      " 3   duration   137735 non-null  float64\n",
      "dtypes: float64(1), int64(1), object(2)\n",
      "memory usage: 4.2+ MB\n"
     ]
    }
   ],
   "source": [
    "# Imprime la información general/resumida sobre el DataFrame de las llamadas\n",
    "calls.info()\n"
   ]
  },
  {
   "cell_type": "code",
   "execution_count": 10,
   "metadata": {
    "id": "kuh1vlNB0q09"
   },
   "outputs": [
    {
     "data": {
      "text/html": [
       "<div>\n",
       "<style scoped>\n",
       "    .dataframe tbody tr th:only-of-type {\n",
       "        vertical-align: middle;\n",
       "    }\n",
       "\n",
       "    .dataframe tbody tr th {\n",
       "        vertical-align: top;\n",
       "    }\n",
       "\n",
       "    .dataframe thead th {\n",
       "        text-align: right;\n",
       "    }\n",
       "</style>\n",
       "<table border=\"1\" class=\"dataframe\">\n",
       "  <thead>\n",
       "    <tr style=\"text-align: right;\">\n",
       "      <th></th>\n",
       "      <th>id</th>\n",
       "      <th>user_id</th>\n",
       "      <th>call_date</th>\n",
       "      <th>duration</th>\n",
       "    </tr>\n",
       "  </thead>\n",
       "  <tbody>\n",
       "    <tr>\n",
       "      <th>25478</th>\n",
       "      <td>1098_153</td>\n",
       "      <td>1098</td>\n",
       "      <td>2018-09-04</td>\n",
       "      <td>3.45</td>\n",
       "    </tr>\n",
       "    <tr>\n",
       "      <th>101424</th>\n",
       "      <td>1362_169</td>\n",
       "      <td>1362</td>\n",
       "      <td>2018-12-11</td>\n",
       "      <td>18.16</td>\n",
       "    </tr>\n",
       "    <tr>\n",
       "      <th>12009</th>\n",
       "      <td>1053_52</td>\n",
       "      <td>1053</td>\n",
       "      <td>2018-11-02</td>\n",
       "      <td>8.49</td>\n",
       "    </tr>\n",
       "    <tr>\n",
       "      <th>126595</th>\n",
       "      <td>1450_89</td>\n",
       "      <td>1450</td>\n",
       "      <td>2018-12-02</td>\n",
       "      <td>17.22</td>\n",
       "    </tr>\n",
       "    <tr>\n",
       "      <th>121551</th>\n",
       "      <td>1427_219</td>\n",
       "      <td>1427</td>\n",
       "      <td>2018-05-19</td>\n",
       "      <td>11.48</td>\n",
       "    </tr>\n",
       "    <tr>\n",
       "      <th>25704</th>\n",
       "      <td>1099_22</td>\n",
       "      <td>1099</td>\n",
       "      <td>2018-12-15</td>\n",
       "      <td>0.00</td>\n",
       "    </tr>\n",
       "    <tr>\n",
       "      <th>11569</th>\n",
       "      <td>1050_344</td>\n",
       "      <td>1050</td>\n",
       "      <td>2018-04-05</td>\n",
       "      <td>0.00</td>\n",
       "    </tr>\n",
       "    <tr>\n",
       "      <th>89703</th>\n",
       "      <td>1326_354</td>\n",
       "      <td>1326</td>\n",
       "      <td>2018-08-10</td>\n",
       "      <td>10.28</td>\n",
       "    </tr>\n",
       "    <tr>\n",
       "      <th>83978</th>\n",
       "      <td>1305_466</td>\n",
       "      <td>1305</td>\n",
       "      <td>2018-12-12</td>\n",
       "      <td>6.46</td>\n",
       "    </tr>\n",
       "    <tr>\n",
       "      <th>13761</th>\n",
       "      <td>1058_368</td>\n",
       "      <td>1058</td>\n",
       "      <td>2018-11-26</td>\n",
       "      <td>2.82</td>\n",
       "    </tr>\n",
       "  </tbody>\n",
       "</table>\n",
       "</div>"
      ],
      "text/plain": [
       "              id  user_id   call_date  duration\n",
       "25478   1098_153     1098  2018-09-04      3.45\n",
       "101424  1362_169     1362  2018-12-11     18.16\n",
       "12009    1053_52     1053  2018-11-02      8.49\n",
       "126595   1450_89     1450  2018-12-02     17.22\n",
       "121551  1427_219     1427  2018-05-19     11.48\n",
       "25704    1099_22     1099  2018-12-15      0.00\n",
       "11569   1050_344     1050  2018-04-05      0.00\n",
       "89703   1326_354     1326  2018-08-10     10.28\n",
       "83978   1305_466     1305  2018-12-12      6.46\n",
       "13761   1058_368     1058  2018-11-26      2.82"
      ]
     },
     "execution_count": 10,
     "metadata": {},
     "output_type": "execute_result"
    }
   ],
   "source": [
    "# Imprime una muestra de datos para las llamadas\n",
    "calls.sample(10)\n"
   ]
  },
  {
   "cell_type": "markdown",
   "metadata": {
    "id": "DOAxYJSx0q09"
   },
   "source": [
    "En este DataFrame no hay datos ausentes pero si tipo de datos no adecuados en las columnas [user_id] y [call_date], tambien a simple vista pudieramos pensar que podria haber datos duplicados por la gran cantidad de datos que hay pero verificando los datos duplicados por cada columna solamente hay duplicados en la columna [user_id] que es totalmente normal ya que un usuario puede hacer muchas llamadas.\n",
    "\n",
    "Tambien pudieramos enriquecer los datos añadiendo la columna de [first_name] y [last_name] a cada llamada. "
   ]
  },
  {
   "cell_type": "markdown",
   "metadata": {
    "id": "S7hzxmbX0q0-"
   },
   "source": [
    "### Corregir los datos"
   ]
  },
  {
   "cell_type": "code",
   "execution_count": 11,
   "metadata": {
    "id": "S2r8xA4f0q0-"
   },
   "outputs": [],
   "source": [
    "calls[\"user_id\"]= calls[\"user_id\"].astype(str) # Cambio de tipo de datos a object\n",
    "calls[\"call_date\"] = pd.to_datetime(calls[\"call_date\"]) # Cambio de tipo de datos a datetime64[ns]"
   ]
  },
  {
   "cell_type": "markdown",
   "metadata": {
    "id": "KrMgTrlG0q0_"
   },
   "source": [
    "### Enriquecer los datos"
   ]
  },
  {
   "cell_type": "code",
   "execution_count": 12,
   "metadata": {
    "id": "iZ1avpA_0q0_"
   },
   "outputs": [],
   "source": [
    "# Se agrega las columnas first_name y last_name al DataFrame calls\n",
    "columns= [\"id\",\"user_id\",\"call_date\",\"duration\",\"first_name\",\"last_name\"]\n",
    "calls= calls.merge(users, on=\"user_id\",how=\"left\")[columns]"
   ]
  },
  {
   "cell_type": "markdown",
   "metadata": {
    "id": "mOUZSi180q0_"
   },
   "source": [
    "## Mensajes"
   ]
  },
  {
   "cell_type": "code",
   "execution_count": 13,
   "metadata": {
    "id": "R-bYJpdV0q1A"
   },
   "outputs": [
    {
     "name": "stdout",
     "output_type": "stream",
     "text": [
      "<class 'pandas.core.frame.DataFrame'>\n",
      "RangeIndex: 76051 entries, 0 to 76050\n",
      "Data columns (total 3 columns):\n",
      " #   Column        Non-Null Count  Dtype \n",
      "---  ------        --------------  ----- \n",
      " 0   id            76051 non-null  object\n",
      " 1   user_id       76051 non-null  int64 \n",
      " 2   message_date  76051 non-null  object\n",
      "dtypes: int64(1), object(2)\n",
      "memory usage: 1.7+ MB\n"
     ]
    }
   ],
   "source": [
    "# Imprime la información general/resumida sobre el DataFrame de los mensajes\n",
    "messages.info()\n"
   ]
  },
  {
   "cell_type": "code",
   "execution_count": 14,
   "metadata": {
    "id": "mCEl2iGE0q1A"
   },
   "outputs": [
    {
     "data": {
      "text/html": [
       "<div>\n",
       "<style scoped>\n",
       "    .dataframe tbody tr th:only-of-type {\n",
       "        vertical-align: middle;\n",
       "    }\n",
       "\n",
       "    .dataframe tbody tr th {\n",
       "        vertical-align: top;\n",
       "    }\n",
       "\n",
       "    .dataframe thead th {\n",
       "        text-align: right;\n",
       "    }\n",
       "</style>\n",
       "<table border=\"1\" class=\"dataframe\">\n",
       "  <thead>\n",
       "    <tr style=\"text-align: right;\">\n",
       "      <th></th>\n",
       "      <th>id</th>\n",
       "      <th>user_id</th>\n",
       "      <th>message_date</th>\n",
       "    </tr>\n",
       "  </thead>\n",
       "  <tbody>\n",
       "    <tr>\n",
       "      <th>49195</th>\n",
       "      <td>1328_153</td>\n",
       "      <td>1328</td>\n",
       "      <td>2018-09-06</td>\n",
       "    </tr>\n",
       "    <tr>\n",
       "      <th>2120</th>\n",
       "      <td>1028_25</td>\n",
       "      <td>1028</td>\n",
       "      <td>2018-02-23</td>\n",
       "    </tr>\n",
       "    <tr>\n",
       "      <th>11394</th>\n",
       "      <td>1077_665</td>\n",
       "      <td>1077</td>\n",
       "      <td>2018-10-05</td>\n",
       "    </tr>\n",
       "    <tr>\n",
       "      <th>42482</th>\n",
       "      <td>1279_15</td>\n",
       "      <td>1279</td>\n",
       "      <td>2018-11-29</td>\n",
       "    </tr>\n",
       "    <tr>\n",
       "      <th>16010</th>\n",
       "      <td>1105_209</td>\n",
       "      <td>1105</td>\n",
       "      <td>2018-11-24</td>\n",
       "    </tr>\n",
       "    <tr>\n",
       "      <th>30214</th>\n",
       "      <td>1189_113</td>\n",
       "      <td>1189</td>\n",
       "      <td>2018-09-25</td>\n",
       "    </tr>\n",
       "    <tr>\n",
       "      <th>14269</th>\n",
       "      <td>1098_288</td>\n",
       "      <td>1098</td>\n",
       "      <td>2018-11-27</td>\n",
       "    </tr>\n",
       "    <tr>\n",
       "      <th>73494</th>\n",
       "      <td>1472_23</td>\n",
       "      <td>1472</td>\n",
       "      <td>2018-07-08</td>\n",
       "    </tr>\n",
       "    <tr>\n",
       "      <th>24200</th>\n",
       "      <td>1145_55</td>\n",
       "      <td>1145</td>\n",
       "      <td>2018-12-02</td>\n",
       "    </tr>\n",
       "    <tr>\n",
       "      <th>6061</th>\n",
       "      <td>1055_179</td>\n",
       "      <td>1055</td>\n",
       "      <td>2018-09-27</td>\n",
       "    </tr>\n",
       "  </tbody>\n",
       "</table>\n",
       "</div>"
      ],
      "text/plain": [
       "             id  user_id message_date\n",
       "49195  1328_153     1328   2018-09-06\n",
       "2120    1028_25     1028   2018-02-23\n",
       "11394  1077_665     1077   2018-10-05\n",
       "42482   1279_15     1279   2018-11-29\n",
       "16010  1105_209     1105   2018-11-24\n",
       "30214  1189_113     1189   2018-09-25\n",
       "14269  1098_288     1098   2018-11-27\n",
       "73494   1472_23     1472   2018-07-08\n",
       "24200   1145_55     1145   2018-12-02\n",
       "6061   1055_179     1055   2018-09-27"
      ]
     },
     "execution_count": 14,
     "metadata": {},
     "output_type": "execute_result"
    }
   ],
   "source": [
    "# Imprime una muestra de datos para los mensajes\n",
    "messages.sample(10)\n"
   ]
  },
  {
   "cell_type": "markdown",
   "metadata": {
    "id": "04xDj7KH0q1A"
   },
   "source": [
    "Mismo caso del DataFrame calls, hay datos duplicados en la columna [user_id] pero esto es normal ya que un usuario puede mandar varios mensajes. En este DataFrame no hay datos ausentes pero si hay tipo de datos no adecuados en las columnas [user_id] y [message_date].\n",
    "\n",
    "Tambien pudieramos enriquecer los datos añadiendo la columna de [first_name] y [last_name] a cada mensaje."
   ]
  },
  {
   "cell_type": "markdown",
   "metadata": {
    "id": "Sprfak900q1B"
   },
   "source": [
    "### Corregir los datos"
   ]
  },
  {
   "cell_type": "code",
   "execution_count": 15,
   "metadata": {
    "id": "vsllvkoa0q1B"
   },
   "outputs": [],
   "source": [
    "messages[\"user_id\"]= messages[\"user_id\"].astype(str) # Cambio de tipo de datos a object\n",
    "messages[\"message_date\"] = pd.to_datetime(messages[\"message_date\"]) # Cambio de tipo de datos a datetime64[ns]"
   ]
  },
  {
   "cell_type": "markdown",
   "metadata": {
    "id": "HvLid7iD0q1B"
   },
   "source": [
    "### Enriquecer los datos"
   ]
  },
  {
   "cell_type": "code",
   "execution_count": 16,
   "metadata": {
    "id": "zYEXZac10q1C"
   },
   "outputs": [],
   "source": [
    "# Se agrega las columnas first_name y last_name al DataFrame messages\n",
    "columns= [\"id\",\"user_id\",\"message_date\",\"first_name\",\"last_name\"]\n",
    "messages= messages.merge(users, on=\"user_id\",how=\"left\")[columns]"
   ]
  },
  {
   "cell_type": "markdown",
   "metadata": {
    "id": "bStkaxn40q1C"
   },
   "source": [
    "## Internet"
   ]
  },
  {
   "cell_type": "code",
   "execution_count": 17,
   "metadata": {
    "id": "e-Uz5qyn0q1C"
   },
   "outputs": [
    {
     "name": "stdout",
     "output_type": "stream",
     "text": [
      "<class 'pandas.core.frame.DataFrame'>\n",
      "RangeIndex: 104825 entries, 0 to 104824\n",
      "Data columns (total 4 columns):\n",
      " #   Column        Non-Null Count   Dtype  \n",
      "---  ------        --------------   -----  \n",
      " 0   id            104825 non-null  object \n",
      " 1   user_id       104825 non-null  int64  \n",
      " 2   session_date  104825 non-null  object \n",
      " 3   mb_used       104825 non-null  float64\n",
      "dtypes: float64(1), int64(1), object(2)\n",
      "memory usage: 3.2+ MB\n"
     ]
    }
   ],
   "source": [
    "# Imprime la información general/resumida sobre el DataFrame de internet\n",
    "internet.info()\n"
   ]
  },
  {
   "cell_type": "code",
   "execution_count": 18,
   "metadata": {
    "id": "9r3x_XLw0q1C"
   },
   "outputs": [
    {
     "data": {
      "text/html": [
       "<div>\n",
       "<style scoped>\n",
       "    .dataframe tbody tr th:only-of-type {\n",
       "        vertical-align: middle;\n",
       "    }\n",
       "\n",
       "    .dataframe tbody tr th {\n",
       "        vertical-align: top;\n",
       "    }\n",
       "\n",
       "    .dataframe thead th {\n",
       "        text-align: right;\n",
       "    }\n",
       "</style>\n",
       "<table border=\"1\" class=\"dataframe\">\n",
       "  <thead>\n",
       "    <tr style=\"text-align: right;\">\n",
       "      <th></th>\n",
       "      <th>id</th>\n",
       "      <th>user_id</th>\n",
       "      <th>session_date</th>\n",
       "      <th>mb_used</th>\n",
       "    </tr>\n",
       "  </thead>\n",
       "  <tbody>\n",
       "    <tr>\n",
       "      <th>89938</th>\n",
       "      <td>1415_42</td>\n",
       "      <td>1415</td>\n",
       "      <td>2018-11-26</td>\n",
       "      <td>1324.20</td>\n",
       "    </tr>\n",
       "    <tr>\n",
       "      <th>90570</th>\n",
       "      <td>1417_159</td>\n",
       "      <td>1417</td>\n",
       "      <td>2018-11-03</td>\n",
       "      <td>671.93</td>\n",
       "    </tr>\n",
       "    <tr>\n",
       "      <th>266</th>\n",
       "      <td>1002_69</td>\n",
       "      <td>1002</td>\n",
       "      <td>2018-10-27</td>\n",
       "      <td>185.18</td>\n",
       "    </tr>\n",
       "    <tr>\n",
       "      <th>16660</th>\n",
       "      <td>1075_93</td>\n",
       "      <td>1075</td>\n",
       "      <td>2018-10-04</td>\n",
       "      <td>502.61</td>\n",
       "    </tr>\n",
       "    <tr>\n",
       "      <th>57130</th>\n",
       "      <td>1258_45</td>\n",
       "      <td>1258</td>\n",
       "      <td>2018-11-10</td>\n",
       "      <td>486.07</td>\n",
       "    </tr>\n",
       "    <tr>\n",
       "      <th>88229</th>\n",
       "      <td>1407_8</td>\n",
       "      <td>1407</td>\n",
       "      <td>2018-12-19</td>\n",
       "      <td>354.32</td>\n",
       "    </tr>\n",
       "    <tr>\n",
       "      <th>76316</th>\n",
       "      <td>1358_552</td>\n",
       "      <td>1358</td>\n",
       "      <td>2018-06-07</td>\n",
       "      <td>60.21</td>\n",
       "    </tr>\n",
       "    <tr>\n",
       "      <th>31049</th>\n",
       "      <td>1141_454</td>\n",
       "      <td>1141</td>\n",
       "      <td>2018-08-19</td>\n",
       "      <td>174.64</td>\n",
       "    </tr>\n",
       "    <tr>\n",
       "      <th>1343</th>\n",
       "      <td>1008_54</td>\n",
       "      <td>1008</td>\n",
       "      <td>2018-10-19</td>\n",
       "      <td>429.88</td>\n",
       "    </tr>\n",
       "    <tr>\n",
       "      <th>80475</th>\n",
       "      <td>1376_28</td>\n",
       "      <td>1376</td>\n",
       "      <td>2018-11-12</td>\n",
       "      <td>0.00</td>\n",
       "    </tr>\n",
       "  </tbody>\n",
       "</table>\n",
       "</div>"
      ],
      "text/plain": [
       "             id  user_id session_date  mb_used\n",
       "89938   1415_42     1415   2018-11-26  1324.20\n",
       "90570  1417_159     1417   2018-11-03   671.93\n",
       "266     1002_69     1002   2018-10-27   185.18\n",
       "16660   1075_93     1075   2018-10-04   502.61\n",
       "57130   1258_45     1258   2018-11-10   486.07\n",
       "88229    1407_8     1407   2018-12-19   354.32\n",
       "76316  1358_552     1358   2018-06-07    60.21\n",
       "31049  1141_454     1141   2018-08-19   174.64\n",
       "1343    1008_54     1008   2018-10-19   429.88\n",
       "80475   1376_28     1376   2018-11-12     0.00"
      ]
     },
     "execution_count": 18,
     "metadata": {},
     "output_type": "execute_result"
    }
   ],
   "source": [
    "# Imprime una muestra de datos para el tráfico de internet\n",
    "internet.sample(10)\n"
   ]
  },
  {
   "cell_type": "markdown",
   "metadata": {
    "id": "EzOG5ik30q1D"
   },
   "source": [
    "Hay datos duplicados en la columna [user_id] pero esto es normal ya que un usuario puede usar sus datos en diferentes dias. En este DataFrame no hay datos ausentes pero si hay tipo de datos no adecuados en las columnas [user_id] y [session_date].\n",
    "\n",
    "Tambien pudieramos enriquecer los datos añadiendo la columna de [first_name] y [last_name] a cada usuario."
   ]
  },
  {
   "cell_type": "markdown",
   "metadata": {
    "id": "yA0tkPFg0q1D"
   },
   "source": [
    "### Corregir los datos"
   ]
  },
  {
   "cell_type": "code",
   "execution_count": 19,
   "metadata": {
    "id": "zVeanzdd0q1E"
   },
   "outputs": [],
   "source": [
    "internet[\"user_id\"]= internet[\"user_id\"].astype(str) # Cambio de tipo de datos a object\n",
    "internet[\"session_date\"] = pd.to_datetime(internet[\"session_date\"]) # Cambio de tipo de datos a datetime64[ns]"
   ]
  },
  {
   "cell_type": "markdown",
   "metadata": {
    "id": "e8_mLF4a0q1E"
   },
   "source": [
    "### Enriquecer los datos"
   ]
  },
  {
   "cell_type": "code",
   "execution_count": 20,
   "metadata": {
    "id": "ESiYPIEK0q1E"
   },
   "outputs": [],
   "source": [
    "# Se agrega las columnas first_name y last_name al DataFrame internet\n",
    "columns= [\"id\",\"user_id\",\"first_name\",\"last_name\",\"session_date\",\"mb_used\"]\n",
    "internet= internet.merge(users, on=\"user_id\",how=\"left\")[columns]"
   ]
  },
  {
   "cell_type": "markdown",
   "metadata": {},
   "source": [
    "<div class=\"alert alert-block alert-success\">\n",
    "<b>Comentario del revisor (1ra Iteración)</b> <a class=“tocSkip”></a>\n",
    "\n",
    "Excelente trabajo en el análisis preliminar de los datasets. Usaste correctamente las funciones `info` y `sample` para revisar la estructura y el contenido de los datos, lo que te permitió realizar los ajustes necesarios. Esto facilitará el análisis de los datos y el desarrollo de las demás etapas del proyecto.\n",
    "\n",
    "\n",
    "</div>"
   ]
  },
  {
   "cell_type": "markdown",
   "metadata": {
    "id": "3UA2cqIW0q1E"
   },
   "source": [
    "## Estudiar las condiciones de las tarifas"
   ]
  },
  {
   "cell_type": "code",
   "execution_count": 21,
   "metadata": {
    "id": "i409op8p0q1F"
   },
   "outputs": [
    {
     "data": {
      "text/html": [
       "<div>\n",
       "<style scoped>\n",
       "    .dataframe tbody tr th:only-of-type {\n",
       "        vertical-align: middle;\n",
       "    }\n",
       "\n",
       "    .dataframe tbody tr th {\n",
       "        vertical-align: top;\n",
       "    }\n",
       "\n",
       "    .dataframe thead th {\n",
       "        text-align: right;\n",
       "    }\n",
       "</style>\n",
       "<table border=\"1\" class=\"dataframe\">\n",
       "  <thead>\n",
       "    <tr style=\"text-align: right;\">\n",
       "      <th></th>\n",
       "      <th>plan_name</th>\n",
       "      <th>messages_included</th>\n",
       "      <th>mb_per_month_included</th>\n",
       "      <th>minutes_included</th>\n",
       "      <th>usd_monthly_pay</th>\n",
       "      <th>usd_per_gb</th>\n",
       "      <th>usd_per_message</th>\n",
       "      <th>usd_per_minute</th>\n",
       "    </tr>\n",
       "  </thead>\n",
       "  <tbody>\n",
       "    <tr>\n",
       "      <th>0</th>\n",
       "      <td>surf</td>\n",
       "      <td>50</td>\n",
       "      <td>15360</td>\n",
       "      <td>500</td>\n",
       "      <td>20</td>\n",
       "      <td>10</td>\n",
       "      <td>0.03</td>\n",
       "      <td>0.03</td>\n",
       "    </tr>\n",
       "    <tr>\n",
       "      <th>1</th>\n",
       "      <td>ultimate</td>\n",
       "      <td>1000</td>\n",
       "      <td>30720</td>\n",
       "      <td>3000</td>\n",
       "      <td>70</td>\n",
       "      <td>7</td>\n",
       "      <td>0.01</td>\n",
       "      <td>0.01</td>\n",
       "    </tr>\n",
       "  </tbody>\n",
       "</table>\n",
       "</div>"
      ],
      "text/plain": [
       "  plan_name  messages_included  mb_per_month_included  minutes_included  \\\n",
       "0      surf                 50                  15360               500   \n",
       "1  ultimate               1000                  30720              3000   \n",
       "\n",
       "   usd_monthly_pay  usd_per_gb  usd_per_message  usd_per_minute  \n",
       "0               20          10             0.03            0.03  \n",
       "1               70           7             0.01            0.01  "
      ]
     },
     "execution_count": 21,
     "metadata": {},
     "output_type": "execute_result"
    }
   ],
   "source": [
    "# Imprime las condiciones de la tarifa y asegúrate de que te quedan claras\n",
    "# 1GB=1024 megabytes\n",
    "plans\n"
   ]
  },
  {
   "cell_type": "markdown",
   "metadata": {
    "id": "hMR1tP5d0q1F"
   },
   "source": [
    "## Agregar datos por usuario\n"
   ]
  },
  {
   "cell_type": "code",
   "execution_count": 22,
   "metadata": {
    "id": "A332cedB0q1G",
    "scrolled": true
   },
   "outputs": [
    {
     "data": {
      "text/html": [
       "<div>\n",
       "<style scoped>\n",
       "    .dataframe tbody tr th:only-of-type {\n",
       "        vertical-align: middle;\n",
       "    }\n",
       "\n",
       "    .dataframe tbody tr th {\n",
       "        vertical-align: top;\n",
       "    }\n",
       "\n",
       "    .dataframe thead th {\n",
       "        text-align: right;\n",
       "    }\n",
       "</style>\n",
       "<table border=\"1\" class=\"dataframe\">\n",
       "  <thead>\n",
       "    <tr style=\"text-align: right;\">\n",
       "      <th></th>\n",
       "      <th>user_id</th>\n",
       "      <th>month</th>\n",
       "      <th>calls</th>\n",
       "    </tr>\n",
       "  </thead>\n",
       "  <tbody>\n",
       "    <tr>\n",
       "      <th>0</th>\n",
       "      <td>1000</td>\n",
       "      <td>12</td>\n",
       "      <td>16</td>\n",
       "    </tr>\n",
       "    <tr>\n",
       "      <th>1</th>\n",
       "      <td>1001</td>\n",
       "      <td>8</td>\n",
       "      <td>27</td>\n",
       "    </tr>\n",
       "    <tr>\n",
       "      <th>2</th>\n",
       "      <td>1001</td>\n",
       "      <td>9</td>\n",
       "      <td>49</td>\n",
       "    </tr>\n",
       "    <tr>\n",
       "      <th>3</th>\n",
       "      <td>1001</td>\n",
       "      <td>10</td>\n",
       "      <td>65</td>\n",
       "    </tr>\n",
       "    <tr>\n",
       "      <th>4</th>\n",
       "      <td>1001</td>\n",
       "      <td>11</td>\n",
       "      <td>64</td>\n",
       "    </tr>\n",
       "    <tr>\n",
       "      <th>...</th>\n",
       "      <td>...</td>\n",
       "      <td>...</td>\n",
       "      <td>...</td>\n",
       "    </tr>\n",
       "    <tr>\n",
       "      <th>2253</th>\n",
       "      <td>1498</td>\n",
       "      <td>12</td>\n",
       "      <td>39</td>\n",
       "    </tr>\n",
       "    <tr>\n",
       "      <th>2254</th>\n",
       "      <td>1499</td>\n",
       "      <td>9</td>\n",
       "      <td>41</td>\n",
       "    </tr>\n",
       "    <tr>\n",
       "      <th>2255</th>\n",
       "      <td>1499</td>\n",
       "      <td>10</td>\n",
       "      <td>53</td>\n",
       "    </tr>\n",
       "    <tr>\n",
       "      <th>2256</th>\n",
       "      <td>1499</td>\n",
       "      <td>11</td>\n",
       "      <td>45</td>\n",
       "    </tr>\n",
       "    <tr>\n",
       "      <th>2257</th>\n",
       "      <td>1499</td>\n",
       "      <td>12</td>\n",
       "      <td>65</td>\n",
       "    </tr>\n",
       "  </tbody>\n",
       "</table>\n",
       "<p>2258 rows × 3 columns</p>\n",
       "</div>"
      ],
      "text/plain": [
       "     user_id  month  calls\n",
       "0       1000     12     16\n",
       "1       1001      8     27\n",
       "2       1001      9     49\n",
       "3       1001     10     65\n",
       "4       1001     11     64\n",
       "...      ...    ...    ...\n",
       "2253    1498     12     39\n",
       "2254    1499      9     41\n",
       "2255    1499     10     53\n",
       "2256    1499     11     45\n",
       "2257    1499     12     65\n",
       "\n",
       "[2258 rows x 3 columns]"
      ]
     },
     "execution_count": 22,
     "metadata": {},
     "output_type": "execute_result"
    }
   ],
   "source": [
    "# Calcula el número de llamadas hechas por cada usuario al mes. Guarda el resultado.\n",
    "\n",
    "#Agrupe cada usuario y mes por llamada y cambie de nombre la columna duration por calls\n",
    "llamadas_por_usuario= calls.groupby([\"user_id\",\"call_date\"])[\"duration\"].count() \n",
    "llamadas_por_usuario= llamadas_por_usuario.reset_index() # reinicie los indices\n",
    "llamadas_por_usuario= llamadas_por_usuario.rename(columns={\"duration\":\"calls\"})\n",
    "# Aqui extraje el numero del mes en el que se hizo la llamada\n",
    "llamadas_por_usuario[\"month\"]= llamadas_por_usuario[\"call_date\"].dt.month \n",
    " #Agrupe los usuarios mostrando el mes que se realizo la llamada y su cantidad de llamadas\n",
    "llamadas_por_usuario= llamadas_por_usuario.groupby([\"user_id\",\"month\"])[\"calls\"].sum()\n",
    "llamadas_por_usuario= llamadas_por_usuario.reset_index() # reinicie los indices\n",
    "\n",
    "llamadas_por_usuario\n"
   ]
  },
  {
   "cell_type": "code",
   "execution_count": 23,
   "metadata": {
    "id": "aw2cmuql0q1G"
   },
   "outputs": [
    {
     "data": {
      "text/html": [
       "<div>\n",
       "<style scoped>\n",
       "    .dataframe tbody tr th:only-of-type {\n",
       "        vertical-align: middle;\n",
       "    }\n",
       "\n",
       "    .dataframe tbody tr th {\n",
       "        vertical-align: top;\n",
       "    }\n",
       "\n",
       "    .dataframe thead th {\n",
       "        text-align: right;\n",
       "    }\n",
       "</style>\n",
       "<table border=\"1\" class=\"dataframe\">\n",
       "  <thead>\n",
       "    <tr style=\"text-align: right;\">\n",
       "      <th></th>\n",
       "      <th>user_id</th>\n",
       "      <th>month</th>\n",
       "      <th>minutes</th>\n",
       "    </tr>\n",
       "  </thead>\n",
       "  <tbody>\n",
       "    <tr>\n",
       "      <th>0</th>\n",
       "      <td>1000</td>\n",
       "      <td>12</td>\n",
       "      <td>116.83</td>\n",
       "    </tr>\n",
       "    <tr>\n",
       "      <th>1</th>\n",
       "      <td>1001</td>\n",
       "      <td>8</td>\n",
       "      <td>171.14</td>\n",
       "    </tr>\n",
       "    <tr>\n",
       "      <th>2</th>\n",
       "      <td>1001</td>\n",
       "      <td>9</td>\n",
       "      <td>297.69</td>\n",
       "    </tr>\n",
       "    <tr>\n",
       "      <th>3</th>\n",
       "      <td>1001</td>\n",
       "      <td>10</td>\n",
       "      <td>374.11</td>\n",
       "    </tr>\n",
       "    <tr>\n",
       "      <th>4</th>\n",
       "      <td>1001</td>\n",
       "      <td>11</td>\n",
       "      <td>404.59</td>\n",
       "    </tr>\n",
       "    <tr>\n",
       "      <th>...</th>\n",
       "      <td>...</td>\n",
       "      <td>...</td>\n",
       "      <td>...</td>\n",
       "    </tr>\n",
       "    <tr>\n",
       "      <th>2253</th>\n",
       "      <td>1498</td>\n",
       "      <td>12</td>\n",
       "      <td>324.77</td>\n",
       "    </tr>\n",
       "    <tr>\n",
       "      <th>2254</th>\n",
       "      <td>1499</td>\n",
       "      <td>9</td>\n",
       "      <td>330.37</td>\n",
       "    </tr>\n",
       "    <tr>\n",
       "      <th>2255</th>\n",
       "      <td>1499</td>\n",
       "      <td>10</td>\n",
       "      <td>363.28</td>\n",
       "    </tr>\n",
       "    <tr>\n",
       "      <th>2256</th>\n",
       "      <td>1499</td>\n",
       "      <td>11</td>\n",
       "      <td>288.56</td>\n",
       "    </tr>\n",
       "    <tr>\n",
       "      <th>2257</th>\n",
       "      <td>1499</td>\n",
       "      <td>12</td>\n",
       "      <td>468.10</td>\n",
       "    </tr>\n",
       "  </tbody>\n",
       "</table>\n",
       "<p>2258 rows × 3 columns</p>\n",
       "</div>"
      ],
      "text/plain": [
       "     user_id  month  minutes\n",
       "0       1000     12   116.83\n",
       "1       1001      8   171.14\n",
       "2       1001      9   297.69\n",
       "3       1001     10   374.11\n",
       "4       1001     11   404.59\n",
       "...      ...    ...      ...\n",
       "2253    1498     12   324.77\n",
       "2254    1499      9   330.37\n",
       "2255    1499     10   363.28\n",
       "2256    1499     11   288.56\n",
       "2257    1499     12   468.10\n",
       "\n",
       "[2258 rows x 3 columns]"
      ]
     },
     "execution_count": 23,
     "metadata": {},
     "output_type": "execute_result"
    }
   ],
   "source": [
    "# Calcula la cantidad de minutos usados por cada usuario al mes. Guarda el resultado.\n",
    "\n",
    "#Agrupe cada usuario y mes por la cantidad de minutos y cambie de nombre la columna duration por minutes\n",
    "minutos_por_usuario= calls.groupby([\"user_id\",\"call_date\"])[\"duration\"].sum() \n",
    "minutos_por_usuario= minutos_por_usuario.reset_index() # reinicie los indices\n",
    "minutos_por_usuario= minutos_por_usuario.rename(columns={\"duration\":\"minutes\"}) \n",
    "# Aqui extraje el numero del mes en el que se hizo la llamada\n",
    "minutos_por_usuario[\"month\"]= minutos_por_usuario[\"call_date\"].dt.month \n",
    "#Agrupe los usuarios mostrando el mes que se realizo la llamada y su cantidad de minutos\n",
    "minutos_por_usuario= minutos_por_usuario.groupby([\"user_id\",\"month\"])[\"minutes\"].sum()\n",
    "minutos_por_usuario= minutos_por_usuario.reset_index()# reinicie los indices\n",
    "\n",
    "minutos_por_usuario"
   ]
  },
  {
   "cell_type": "code",
   "execution_count": 24,
   "metadata": {
    "id": "CcQvNHn60q1G"
   },
   "outputs": [
    {
     "data": {
      "text/html": [
       "<div>\n",
       "<style scoped>\n",
       "    .dataframe tbody tr th:only-of-type {\n",
       "        vertical-align: middle;\n",
       "    }\n",
       "\n",
       "    .dataframe tbody tr th {\n",
       "        vertical-align: top;\n",
       "    }\n",
       "\n",
       "    .dataframe thead th {\n",
       "        text-align: right;\n",
       "    }\n",
       "</style>\n",
       "<table border=\"1\" class=\"dataframe\">\n",
       "  <thead>\n",
       "    <tr style=\"text-align: right;\">\n",
       "      <th></th>\n",
       "      <th>user_id</th>\n",
       "      <th>month</th>\n",
       "      <th>messages</th>\n",
       "    </tr>\n",
       "  </thead>\n",
       "  <tbody>\n",
       "    <tr>\n",
       "      <th>0</th>\n",
       "      <td>1000</td>\n",
       "      <td>12</td>\n",
       "      <td>11</td>\n",
       "    </tr>\n",
       "    <tr>\n",
       "      <th>1</th>\n",
       "      <td>1001</td>\n",
       "      <td>8</td>\n",
       "      <td>30</td>\n",
       "    </tr>\n",
       "    <tr>\n",
       "      <th>2</th>\n",
       "      <td>1001</td>\n",
       "      <td>9</td>\n",
       "      <td>44</td>\n",
       "    </tr>\n",
       "    <tr>\n",
       "      <th>3</th>\n",
       "      <td>1001</td>\n",
       "      <td>10</td>\n",
       "      <td>53</td>\n",
       "    </tr>\n",
       "    <tr>\n",
       "      <th>4</th>\n",
       "      <td>1001</td>\n",
       "      <td>11</td>\n",
       "      <td>36</td>\n",
       "    </tr>\n",
       "    <tr>\n",
       "      <th>...</th>\n",
       "      <td>...</td>\n",
       "      <td>...</td>\n",
       "      <td>...</td>\n",
       "    </tr>\n",
       "    <tr>\n",
       "      <th>1801</th>\n",
       "      <td>1496</td>\n",
       "      <td>9</td>\n",
       "      <td>21</td>\n",
       "    </tr>\n",
       "    <tr>\n",
       "      <th>1802</th>\n",
       "      <td>1496</td>\n",
       "      <td>10</td>\n",
       "      <td>18</td>\n",
       "    </tr>\n",
       "    <tr>\n",
       "      <th>1803</th>\n",
       "      <td>1496</td>\n",
       "      <td>11</td>\n",
       "      <td>13</td>\n",
       "    </tr>\n",
       "    <tr>\n",
       "      <th>1804</th>\n",
       "      <td>1496</td>\n",
       "      <td>12</td>\n",
       "      <td>11</td>\n",
       "    </tr>\n",
       "    <tr>\n",
       "      <th>1805</th>\n",
       "      <td>1497</td>\n",
       "      <td>12</td>\n",
       "      <td>50</td>\n",
       "    </tr>\n",
       "  </tbody>\n",
       "</table>\n",
       "<p>1806 rows × 3 columns</p>\n",
       "</div>"
      ],
      "text/plain": [
       "     user_id  month  messages\n",
       "0       1000     12        11\n",
       "1       1001      8        30\n",
       "2       1001      9        44\n",
       "3       1001     10        53\n",
       "4       1001     11        36\n",
       "...      ...    ...       ...\n",
       "1801    1496      9        21\n",
       "1802    1496     10        18\n",
       "1803    1496     11        13\n",
       "1804    1496     12        11\n",
       "1805    1497     12        50\n",
       "\n",
       "[1806 rows x 3 columns]"
      ]
     },
     "execution_count": 24,
     "metadata": {},
     "output_type": "execute_result"
    }
   ],
   "source": [
    "# Calcula el número de mensajes enviados por cada usuario al mes. Guarda el resultado.\n",
    "\n",
    "#Agrupe cada usuario y mes por mensaje y cambie de nombre la columna first_name por messages\n",
    "mensajes_por_usuario= messages.groupby([\"user_id\",\"message_date\"])[\"first_name\"].count()\n",
    "mensajes_por_usuario= mensajes_por_usuario.reset_index() # Reinicie los indices\n",
    "mensajes_por_usuario= mensajes_por_usuario.rename(columns={\"first_name\":\"messages\"})\n",
    "# Aqui extraje el numero del mes en el que se mando el mensaje\n",
    "mensajes_por_usuario[\"month\"]= mensajes_por_usuario[\"message_date\"].dt.month\n",
    "#Agrupe los usuarios mostrando el mes que se mando el mensaje y la cantidad de mensajes\n",
    "mensajes_por_usuario= mensajes_por_usuario.groupby([\"user_id\",\"month\"])[\"messages\"].sum()\n",
    "mensajes_por_usuario= mensajes_por_usuario.reset_index()\n",
    "\n",
    "mensajes_por_usuario"
   ]
  },
  {
   "cell_type": "code",
   "execution_count": 25,
   "metadata": {
    "id": "H1AqN2eG0q1H"
   },
   "outputs": [
    {
     "data": {
      "text/html": [
       "<div>\n",
       "<style scoped>\n",
       "    .dataframe tbody tr th:only-of-type {\n",
       "        vertical-align: middle;\n",
       "    }\n",
       "\n",
       "    .dataframe tbody tr th {\n",
       "        vertical-align: top;\n",
       "    }\n",
       "\n",
       "    .dataframe thead th {\n",
       "        text-align: right;\n",
       "    }\n",
       "</style>\n",
       "<table border=\"1\" class=\"dataframe\">\n",
       "  <thead>\n",
       "    <tr style=\"text-align: right;\">\n",
       "      <th></th>\n",
       "      <th>user_id</th>\n",
       "      <th>month</th>\n",
       "      <th>mb_used</th>\n",
       "    </tr>\n",
       "  </thead>\n",
       "  <tbody>\n",
       "    <tr>\n",
       "      <th>0</th>\n",
       "      <td>1000</td>\n",
       "      <td>12</td>\n",
       "      <td>1901.47</td>\n",
       "    </tr>\n",
       "    <tr>\n",
       "      <th>1</th>\n",
       "      <td>1001</td>\n",
       "      <td>8</td>\n",
       "      <td>6919.15</td>\n",
       "    </tr>\n",
       "    <tr>\n",
       "      <th>2</th>\n",
       "      <td>1001</td>\n",
       "      <td>9</td>\n",
       "      <td>13314.82</td>\n",
       "    </tr>\n",
       "    <tr>\n",
       "      <th>3</th>\n",
       "      <td>1001</td>\n",
       "      <td>10</td>\n",
       "      <td>22330.49</td>\n",
       "    </tr>\n",
       "    <tr>\n",
       "      <th>4</th>\n",
       "      <td>1001</td>\n",
       "      <td>11</td>\n",
       "      <td>18504.30</td>\n",
       "    </tr>\n",
       "    <tr>\n",
       "      <th>...</th>\n",
       "      <td>...</td>\n",
       "      <td>...</td>\n",
       "      <td>...</td>\n",
       "    </tr>\n",
       "    <tr>\n",
       "      <th>2272</th>\n",
       "      <td>1498</td>\n",
       "      <td>12</td>\n",
       "      <td>23137.69</td>\n",
       "    </tr>\n",
       "    <tr>\n",
       "      <th>2273</th>\n",
       "      <td>1499</td>\n",
       "      <td>9</td>\n",
       "      <td>12984.76</td>\n",
       "    </tr>\n",
       "    <tr>\n",
       "      <th>2274</th>\n",
       "      <td>1499</td>\n",
       "      <td>10</td>\n",
       "      <td>19492.43</td>\n",
       "    </tr>\n",
       "    <tr>\n",
       "      <th>2275</th>\n",
       "      <td>1499</td>\n",
       "      <td>11</td>\n",
       "      <td>16813.83</td>\n",
       "    </tr>\n",
       "    <tr>\n",
       "      <th>2276</th>\n",
       "      <td>1499</td>\n",
       "      <td>12</td>\n",
       "      <td>22059.21</td>\n",
       "    </tr>\n",
       "  </tbody>\n",
       "</table>\n",
       "<p>2277 rows × 3 columns</p>\n",
       "</div>"
      ],
      "text/plain": [
       "     user_id  month   mb_used\n",
       "0       1000     12   1901.47\n",
       "1       1001      8   6919.15\n",
       "2       1001      9  13314.82\n",
       "3       1001     10  22330.49\n",
       "4       1001     11  18504.30\n",
       "...      ...    ...       ...\n",
       "2272    1498     12  23137.69\n",
       "2273    1499      9  12984.76\n",
       "2274    1499     10  19492.43\n",
       "2275    1499     11  16813.83\n",
       "2276    1499     12  22059.21\n",
       "\n",
       "[2277 rows x 3 columns]"
      ]
     },
     "execution_count": 25,
     "metadata": {},
     "output_type": "execute_result"
    }
   ],
   "source": [
    "# Calcula el volumen del tráfico de Internet usado por cada usuario al mes. Guarda el resultado.\n",
    "\n",
    "#Agrupe cada usuario y mes por Internet usado\n",
    "internet_por_usuario= internet.groupby([\"user_id\",\"session_date\"])[\"mb_used\"].sum()\n",
    "internet_por_usuario= internet_por_usuario.reset_index() #Reinicio los indices\n",
    "# Aqui extraje el numero del mes en el que se uso el Internet\n",
    "internet_por_usuario[\"month\"]= internet_por_usuario[\"session_date\"].dt.month\n",
    "#Agrupe los usuarios mostrando el mes en el que se uso el Internet y su cantidad de datos usados\n",
    "internet_por_usuario= internet_por_usuario.groupby([\"user_id\",\"month\"])[\"mb_used\"].sum()\n",
    "internet_por_usuario= internet_por_usuario.reset_index()\n",
    "\n",
    "internet_por_usuario\n"
   ]
  },
  {
   "cell_type": "markdown",
   "metadata": {},
   "source": [
    "**DataFrame para que haya un registro que represente lo que consumió un usuario único en un mes determinado.**"
   ]
  },
  {
   "cell_type": "code",
   "execution_count": 26,
   "metadata": {
    "id": "FW99ykyf0q1H"
   },
   "outputs": [
    {
     "data": {
      "text/html": [
       "<div>\n",
       "<style scoped>\n",
       "    .dataframe tbody tr th:only-of-type {\n",
       "        vertical-align: middle;\n",
       "    }\n",
       "\n",
       "    .dataframe tbody tr th {\n",
       "        vertical-align: top;\n",
       "    }\n",
       "\n",
       "    .dataframe thead th {\n",
       "        text-align: right;\n",
       "    }\n",
       "</style>\n",
       "<table border=\"1\" class=\"dataframe\">\n",
       "  <thead>\n",
       "    <tr style=\"text-align: right;\">\n",
       "      <th></th>\n",
       "      <th>user_id</th>\n",
       "      <th>month</th>\n",
       "      <th>calls</th>\n",
       "      <th>minutes</th>\n",
       "      <th>messages</th>\n",
       "      <th>mb_used</th>\n",
       "      <th>plan</th>\n",
       "    </tr>\n",
       "  </thead>\n",
       "  <tbody>\n",
       "    <tr>\n",
       "      <th>0</th>\n",
       "      <td>1000</td>\n",
       "      <td>12</td>\n",
       "      <td>16.0</td>\n",
       "      <td>116.83</td>\n",
       "      <td>11.0</td>\n",
       "      <td>1901.47</td>\n",
       "      <td>ultimate</td>\n",
       "    </tr>\n",
       "    <tr>\n",
       "      <th>1</th>\n",
       "      <td>1001</td>\n",
       "      <td>8</td>\n",
       "      <td>27.0</td>\n",
       "      <td>171.14</td>\n",
       "      <td>30.0</td>\n",
       "      <td>6919.15</td>\n",
       "      <td>surf</td>\n",
       "    </tr>\n",
       "    <tr>\n",
       "      <th>2</th>\n",
       "      <td>1001</td>\n",
       "      <td>9</td>\n",
       "      <td>49.0</td>\n",
       "      <td>297.69</td>\n",
       "      <td>44.0</td>\n",
       "      <td>13314.82</td>\n",
       "      <td>surf</td>\n",
       "    </tr>\n",
       "    <tr>\n",
       "      <th>3</th>\n",
       "      <td>1001</td>\n",
       "      <td>10</td>\n",
       "      <td>65.0</td>\n",
       "      <td>374.11</td>\n",
       "      <td>53.0</td>\n",
       "      <td>22330.49</td>\n",
       "      <td>surf</td>\n",
       "    </tr>\n",
       "    <tr>\n",
       "      <th>4</th>\n",
       "      <td>1001</td>\n",
       "      <td>11</td>\n",
       "      <td>64.0</td>\n",
       "      <td>404.59</td>\n",
       "      <td>36.0</td>\n",
       "      <td>18504.30</td>\n",
       "      <td>surf</td>\n",
       "    </tr>\n",
       "    <tr>\n",
       "      <th>...</th>\n",
       "      <td>...</td>\n",
       "      <td>...</td>\n",
       "      <td>...</td>\n",
       "      <td>...</td>\n",
       "      <td>...</td>\n",
       "      <td>...</td>\n",
       "      <td>...</td>\n",
       "    </tr>\n",
       "    <tr>\n",
       "      <th>2288</th>\n",
       "      <td>1498</td>\n",
       "      <td>12</td>\n",
       "      <td>39.0</td>\n",
       "      <td>324.77</td>\n",
       "      <td>NaN</td>\n",
       "      <td>23137.69</td>\n",
       "      <td>surf</td>\n",
       "    </tr>\n",
       "    <tr>\n",
       "      <th>2289</th>\n",
       "      <td>1499</td>\n",
       "      <td>9</td>\n",
       "      <td>41.0</td>\n",
       "      <td>330.37</td>\n",
       "      <td>NaN</td>\n",
       "      <td>12984.76</td>\n",
       "      <td>surf</td>\n",
       "    </tr>\n",
       "    <tr>\n",
       "      <th>2290</th>\n",
       "      <td>1499</td>\n",
       "      <td>10</td>\n",
       "      <td>53.0</td>\n",
       "      <td>363.28</td>\n",
       "      <td>NaN</td>\n",
       "      <td>19492.43</td>\n",
       "      <td>surf</td>\n",
       "    </tr>\n",
       "    <tr>\n",
       "      <th>2291</th>\n",
       "      <td>1499</td>\n",
       "      <td>11</td>\n",
       "      <td>45.0</td>\n",
       "      <td>288.56</td>\n",
       "      <td>NaN</td>\n",
       "      <td>16813.83</td>\n",
       "      <td>surf</td>\n",
       "    </tr>\n",
       "    <tr>\n",
       "      <th>2292</th>\n",
       "      <td>1499</td>\n",
       "      <td>12</td>\n",
       "      <td>65.0</td>\n",
       "      <td>468.10</td>\n",
       "      <td>NaN</td>\n",
       "      <td>22059.21</td>\n",
       "      <td>surf</td>\n",
       "    </tr>\n",
       "  </tbody>\n",
       "</table>\n",
       "<p>2293 rows × 7 columns</p>\n",
       "</div>"
      ],
      "text/plain": [
       "     user_id  month  calls  minutes  messages   mb_used      plan\n",
       "0       1000     12   16.0   116.83      11.0   1901.47  ultimate\n",
       "1       1001      8   27.0   171.14      30.0   6919.15      surf\n",
       "2       1001      9   49.0   297.69      44.0  13314.82      surf\n",
       "3       1001     10   65.0   374.11      53.0  22330.49      surf\n",
       "4       1001     11   64.0   404.59      36.0  18504.30      surf\n",
       "...      ...    ...    ...      ...       ...       ...       ...\n",
       "2288    1498     12   39.0   324.77       NaN  23137.69      surf\n",
       "2289    1499      9   41.0   330.37       NaN  12984.76      surf\n",
       "2290    1499     10   53.0   363.28       NaN  19492.43      surf\n",
       "2291    1499     11   45.0   288.56       NaN  16813.83      surf\n",
       "2292    1499     12   65.0   468.10       NaN  22059.21      surf\n",
       "\n",
       "[2293 rows x 7 columns]"
      ]
     },
     "execution_count": 26,
     "metadata": {},
     "output_type": "execute_result"
    }
   ],
   "source": [
    "# Fusiona los datos de llamadas, minutos, mensajes e Internet con base en user_id y month\n",
    "\n",
    "usuario_consumo= llamadas_por_usuario.merge(minutos_por_usuario, on=[\"user_id\",\"month\"], how=\"outer\")\n",
    "usuario_consumo= usuario_consumo.merge(mensajes_por_usuario, on=[\"user_id\",\"month\"], how=\"outer\")\n",
    "usuario_consumo= usuario_consumo.merge(internet_por_usuario, on=[\"user_id\",\"month\"], how=\"outer\")\n",
    "\n",
    "columns= [\"user_id\",\"month\",\"calls\",\"minutes\",\"messages\",\"mb_used\",\"plan\"]\n",
    "usuario_consumo= users.merge(usuario_consumo, on=\"user_id\")[columns]\n",
    "\n",
    "usuario_consumo"
   ]
  },
  {
   "cell_type": "markdown",
   "metadata": {
    "id": "0dNOXHag0q1H"
   },
   "source": [
    "**Calculo de ingresos mensuales por cada usuario**\n"
   ]
  },
  {
   "cell_type": "code",
   "execution_count": 27,
   "metadata": {},
   "outputs": [
    {
     "data": {
      "text/html": [
       "<div>\n",
       "<style scoped>\n",
       "    .dataframe tbody tr th:only-of-type {\n",
       "        vertical-align: middle;\n",
       "    }\n",
       "\n",
       "    .dataframe tbody tr th {\n",
       "        vertical-align: top;\n",
       "    }\n",
       "\n",
       "    .dataframe thead th {\n",
       "        text-align: right;\n",
       "    }\n",
       "</style>\n",
       "<table border=\"1\" class=\"dataframe\">\n",
       "  <thead>\n",
       "    <tr style=\"text-align: right;\">\n",
       "      <th></th>\n",
       "      <th>plan_name</th>\n",
       "      <th>messages_included</th>\n",
       "      <th>mb_per_month_included</th>\n",
       "      <th>minutes_included</th>\n",
       "      <th>usd_monthly_pay</th>\n",
       "      <th>usd_per_gb</th>\n",
       "      <th>usd_per_message</th>\n",
       "      <th>usd_per_minute</th>\n",
       "    </tr>\n",
       "  </thead>\n",
       "  <tbody>\n",
       "    <tr>\n",
       "      <th>0</th>\n",
       "      <td>surf</td>\n",
       "      <td>50</td>\n",
       "      <td>15360</td>\n",
       "      <td>500</td>\n",
       "      <td>20</td>\n",
       "      <td>10</td>\n",
       "      <td>0.03</td>\n",
       "      <td>0.03</td>\n",
       "    </tr>\n",
       "    <tr>\n",
       "      <th>1</th>\n",
       "      <td>ultimate</td>\n",
       "      <td>1000</td>\n",
       "      <td>30720</td>\n",
       "      <td>3000</td>\n",
       "      <td>70</td>\n",
       "      <td>7</td>\n",
       "      <td>0.01</td>\n",
       "      <td>0.01</td>\n",
       "    </tr>\n",
       "  </tbody>\n",
       "</table>\n",
       "</div>"
      ],
      "text/plain": [
       "  plan_name  messages_included  mb_per_month_included  minutes_included  \\\n",
       "0      surf                 50                  15360               500   \n",
       "1  ultimate               1000                  30720              3000   \n",
       "\n",
       "   usd_monthly_pay  usd_per_gb  usd_per_message  usd_per_minute  \n",
       "0               20          10             0.03            0.03  \n",
       "1               70           7             0.01            0.01  "
      ]
     },
     "execution_count": 27,
     "metadata": {},
     "output_type": "execute_result"
    }
   ],
   "source": [
    "plans"
   ]
  },
  {
   "cell_type": "code",
   "execution_count": 28,
   "metadata": {
    "id": "5FGCf_c60q1I"
   },
   "outputs": [
    {
     "data": {
      "text/html": [
       "<div>\n",
       "<style scoped>\n",
       "    .dataframe tbody tr th:only-of-type {\n",
       "        vertical-align: middle;\n",
       "    }\n",
       "\n",
       "    .dataframe tbody tr th {\n",
       "        vertical-align: top;\n",
       "    }\n",
       "\n",
       "    .dataframe thead th {\n",
       "        text-align: right;\n",
       "    }\n",
       "</style>\n",
       "<table border=\"1\" class=\"dataframe\">\n",
       "  <thead>\n",
       "    <tr style=\"text-align: right;\">\n",
       "      <th></th>\n",
       "      <th>user_id</th>\n",
       "      <th>month</th>\n",
       "      <th>calls</th>\n",
       "      <th>minutes</th>\n",
       "      <th>messages</th>\n",
       "      <th>mb_used</th>\n",
       "      <th>plan</th>\n",
       "      <th>tarifa_mensual</th>\n",
       "    </tr>\n",
       "  </thead>\n",
       "  <tbody>\n",
       "    <tr>\n",
       "      <th>0</th>\n",
       "      <td>1000</td>\n",
       "      <td>12</td>\n",
       "      <td>16.0</td>\n",
       "      <td>116.83</td>\n",
       "      <td>11.0</td>\n",
       "      <td>1901.47</td>\n",
       "      <td>ultimate</td>\n",
       "      <td>70.00</td>\n",
       "    </tr>\n",
       "    <tr>\n",
       "      <th>1</th>\n",
       "      <td>1001</td>\n",
       "      <td>8</td>\n",
       "      <td>27.0</td>\n",
       "      <td>171.14</td>\n",
       "      <td>30.0</td>\n",
       "      <td>6919.15</td>\n",
       "      <td>surf</td>\n",
       "      <td>20.00</td>\n",
       "    </tr>\n",
       "    <tr>\n",
       "      <th>2</th>\n",
       "      <td>1001</td>\n",
       "      <td>9</td>\n",
       "      <td>49.0</td>\n",
       "      <td>297.69</td>\n",
       "      <td>44.0</td>\n",
       "      <td>13314.82</td>\n",
       "      <td>surf</td>\n",
       "      <td>20.00</td>\n",
       "    </tr>\n",
       "    <tr>\n",
       "      <th>3</th>\n",
       "      <td>1001</td>\n",
       "      <td>10</td>\n",
       "      <td>65.0</td>\n",
       "      <td>374.11</td>\n",
       "      <td>53.0</td>\n",
       "      <td>22330.49</td>\n",
       "      <td>surf</td>\n",
       "      <td>90.09</td>\n",
       "    </tr>\n",
       "    <tr>\n",
       "      <th>4</th>\n",
       "      <td>1001</td>\n",
       "      <td>11</td>\n",
       "      <td>64.0</td>\n",
       "      <td>404.59</td>\n",
       "      <td>36.0</td>\n",
       "      <td>18504.30</td>\n",
       "      <td>surf</td>\n",
       "      <td>60.00</td>\n",
       "    </tr>\n",
       "    <tr>\n",
       "      <th>...</th>\n",
       "      <td>...</td>\n",
       "      <td>...</td>\n",
       "      <td>...</td>\n",
       "      <td>...</td>\n",
       "      <td>...</td>\n",
       "      <td>...</td>\n",
       "      <td>...</td>\n",
       "      <td>...</td>\n",
       "    </tr>\n",
       "    <tr>\n",
       "      <th>2288</th>\n",
       "      <td>1498</td>\n",
       "      <td>12</td>\n",
       "      <td>39.0</td>\n",
       "      <td>324.77</td>\n",
       "      <td>0.0</td>\n",
       "      <td>23137.69</td>\n",
       "      <td>surf</td>\n",
       "      <td>100.00</td>\n",
       "    </tr>\n",
       "    <tr>\n",
       "      <th>2289</th>\n",
       "      <td>1499</td>\n",
       "      <td>9</td>\n",
       "      <td>41.0</td>\n",
       "      <td>330.37</td>\n",
       "      <td>0.0</td>\n",
       "      <td>12984.76</td>\n",
       "      <td>surf</td>\n",
       "      <td>20.00</td>\n",
       "    </tr>\n",
       "    <tr>\n",
       "      <th>2290</th>\n",
       "      <td>1499</td>\n",
       "      <td>10</td>\n",
       "      <td>53.0</td>\n",
       "      <td>363.28</td>\n",
       "      <td>0.0</td>\n",
       "      <td>19492.43</td>\n",
       "      <td>surf</td>\n",
       "      <td>70.00</td>\n",
       "    </tr>\n",
       "    <tr>\n",
       "      <th>2291</th>\n",
       "      <td>1499</td>\n",
       "      <td>11</td>\n",
       "      <td>45.0</td>\n",
       "      <td>288.56</td>\n",
       "      <td>0.0</td>\n",
       "      <td>16813.83</td>\n",
       "      <td>surf</td>\n",
       "      <td>40.00</td>\n",
       "    </tr>\n",
       "    <tr>\n",
       "      <th>2292</th>\n",
       "      <td>1499</td>\n",
       "      <td>12</td>\n",
       "      <td>65.0</td>\n",
       "      <td>468.10</td>\n",
       "      <td>0.0</td>\n",
       "      <td>22059.21</td>\n",
       "      <td>surf</td>\n",
       "      <td>90.00</td>\n",
       "    </tr>\n",
       "  </tbody>\n",
       "</table>\n",
       "<p>2293 rows × 8 columns</p>\n",
       "</div>"
      ],
      "text/plain": [
       "     user_id  month  calls  minutes  messages   mb_used      plan  \\\n",
       "0       1000     12   16.0   116.83      11.0   1901.47  ultimate   \n",
       "1       1001      8   27.0   171.14      30.0   6919.15      surf   \n",
       "2       1001      9   49.0   297.69      44.0  13314.82      surf   \n",
       "3       1001     10   65.0   374.11      53.0  22330.49      surf   \n",
       "4       1001     11   64.0   404.59      36.0  18504.30      surf   \n",
       "...      ...    ...    ...      ...       ...       ...       ...   \n",
       "2288    1498     12   39.0   324.77       0.0  23137.69      surf   \n",
       "2289    1499      9   41.0   330.37       0.0  12984.76      surf   \n",
       "2290    1499     10   53.0   363.28       0.0  19492.43      surf   \n",
       "2291    1499     11   45.0   288.56       0.0  16813.83      surf   \n",
       "2292    1499     12   65.0   468.10       0.0  22059.21      surf   \n",
       "\n",
       "      tarifa_mensual  \n",
       "0              70.00  \n",
       "1              20.00  \n",
       "2              20.00  \n",
       "3              90.09  \n",
       "4              60.00  \n",
       "...              ...  \n",
       "2288          100.00  \n",
       "2289           20.00  \n",
       "2290           70.00  \n",
       "2291           40.00  \n",
       "2292           90.00  \n",
       "\n",
       "[2293 rows x 8 columns]"
      ]
     },
     "execution_count": 28,
     "metadata": {},
     "output_type": "execute_result"
    }
   ],
   "source": [
    "# Calcula el ingreso mensual para cada usuario\n",
    "\n",
    "# Se reemplaza el valor ausente por el valor 0 para poder hacer las operaciones\n",
    "usuario_consumo[\"calls\"] = usuario_consumo[\"calls\"].fillna(0)\n",
    "usuario_consumo[\"minutes\"] = usuario_consumo[\"minutes\"].fillna(0)\n",
    "usuario_consumo[\"messages\"] = usuario_consumo[\"messages\"].fillna(0)\n",
    "usuario_consumo[\"mb_used\"] = usuario_consumo[\"mb_used\"].fillna(0)\n",
    "\n",
    "#Se crea funcion para hacer el calculo del ingreso mensual por cada usuario\n",
    "def calculo_mensual_usuario(row):\n",
    "\n",
    "  plan = row[\"plan\"]\n",
    "  calls = row[\"calls\"]\n",
    "  minutes = row[\"minutes\"]\n",
    "  messages = row[\"messages\"]\n",
    "  mb_used = row[\"mb_used\"]\n",
    "\n",
    "  plan_info = plans[plans[\"plan_name\"] == plan].iloc[0]\n",
    "\n",
    "    # Calculo de ingresos por llamadas\n",
    "  minutos_excedentes = max(0, minutes - plan_info[\"minutes_included\"])\n",
    "  ingreso_llamadas = minutos_excedentes * plan_info[\"usd_per_minute\"]\n",
    "\n",
    "    # Calculo de ingresos por mensajes\n",
    "  mensajes_excedentes = max(0, messages - plan_info[\"messages_included\"])\n",
    "  ingreso_mensajes = mensajes_excedentes * plan_info[\"usd_per_message\"]\n",
    "\n",
    "    # Calculo de ingresos por internet\n",
    "    # Se convierte los MB usados a GB y se redondea hacia arriba\n",
    "  gb_usados = np.ceil(mb_used/1024)\n",
    "  datos_excedentes = max(0, gb_usados - plan_info[\"mb_per_month_included\"]/1024)\n",
    "  ingreso_internet = datos_excedentes * plan_info[\"usd_per_gb\"]\n",
    "\n",
    "\n",
    "    # Total de ingresos mensuales\n",
    "  total_ingreso = plan_info[\"usd_monthly_pay\"] + ingreso_llamadas + ingreso_mensajes + ingreso_internet\n",
    "\n",
    "  return total_ingreso\n",
    "\n",
    "usuario_consumo[\"tarifa_mensual\"] = usuario_consumo.apply(calculo_mensual_usuario, axis=1)#axis=1 para que aplique la funcion a cada renglon\n",
    "\n",
    "usuario_consumo"
   ]
  },
  {
   "cell_type": "markdown",
   "metadata": {},
   "source": [
    "<div class=\"alert alert-block alert-success\">\n",
    "<b>Comentario del revisor (1ra Iteración)</b> <a class=“tocSkip”></a>\n",
    "\n",
    "¡Perfecto Edgar! Hiciste un excelente uso de las funciones `groupby`  y `merge`, logrando agrupar correctamente la información de consumo de llamadas, mensajes e internet de cada usuario por mes, inclusive considerando las condiciones de redondeo. Además, calculaste de manera precisa el cobro mensual y reflejaste los valores correctos en la columna *tarifa_mensual*. ¡Buen trabajo!\n",
    "\n",
    "\n",
    "</div>"
   ]
  },
  {
   "cell_type": "markdown",
   "metadata": {
    "id": "-jtyHzJb0q1I"
   },
   "source": [
    "## Estudia el comportamiento de usuario"
   ]
  },
  {
   "cell_type": "markdown",
   "metadata": {
    "id": "vtW4CJEe0q1J"
   },
   "source": [
    "### Llamadas"
   ]
  },
  {
   "cell_type": "code",
   "execution_count": 29,
   "metadata": {},
   "outputs": [],
   "source": [
    "from matplotlib import pyplot as plt"
   ]
  },
  {
   "cell_type": "code",
   "execution_count": 30,
   "metadata": {
    "id": "Jf5v5--k0q1J"
   },
   "outputs": [
    {
     "data": {
      "image/png": "[encoded data removed]",
      "text/plain": [
       "<Figure size 640x480 with 1 Axes>"
      ]
     },
     "metadata": {},
     "output_type": "display_data"
    }
   ],
   "source": [
    "# Compara la duración promedio de llamadas por cada plan y por cada mes. Traza un gráfico de barras para visualizarla.\n",
    "duracion_promedio_llamadas = usuario_consumo.groupby([\"plan\", \"month\"])[\"minutes\"].mean().reset_index()\n",
    "\n",
    "duracion_promedio_surf= duracion_promedio_llamadas.query(\"plan == 'surf'\")\n",
    "duracion_promedio_ultimate= duracion_promedio_llamadas.query(\"plan == 'ultimate'\")\n",
    "\n",
    "plt.bar(duracion_promedio_surf[\"month\"], duracion_promedio_surf[\"minutes\"], label=\"Surf\")\n",
    "plt.bar(duracion_promedio_ultimate[\"month\"], duracion_promedio_ultimate[\"minutes\"], label=\"Ultimate\",alpha=0.6)\n",
    "plt.xlabel(\"Mes\")\n",
    "plt.ylabel(\"Duración promedio de llamadas (minutos)\")\n",
    "plt.title(\"Duración promedio de llamadas por mes y plan\")\n",
    "plt.legend()\n",
    "plt.xticks(duracion_promedio_llamadas[\"month\"].unique())\n",
    "\n",
    "plt.show()\n",
    "\n",
    "\n"
   ]
  },
  {
   "cell_type": "code",
   "execution_count": 31,
   "metadata": {
    "id": "QoLqW1S_0q1J"
   },
   "outputs": [
    {
     "data": {
      "image/png": "[encoded data removed]",
      "text/plain": [
       "<Figure size 640x480 with 2 Axes>"
      ]
     },
     "metadata": {},
     "output_type": "display_data"
    }
   ],
   "source": [
    "# Compara el número de minutos mensuales que necesitan los usuarios de cada plan. Traza un histograma.\n",
    "total_minutos_mensuales = usuario_consumo.groupby([\"plan\",\"month\"])[\"minutes\"].sum().reset_index()\n",
    "\n",
    "total_minutos_mensuales_surf= total_minutos_mensuales.query(\"plan == 'surf'\")\n",
    "total_minutos_mensuales_ultimate= total_minutos_mensuales.query(\"plan == 'ultimate'\")\n",
    "\n",
    "# Use plt.subplot para apreciar la grafica para cada plan por separado\n",
    "plt.subplot(2, 1, 1)\n",
    "total_minutos_mensuales_surf[\"minutes\"].plot(kind=\"hist\",bins=30, alpha=0.5, label=\"Surf\")\n",
    "plt.xlabel(\"Minutos mensuales\")\n",
    "plt.ylabel(\"Frecuencia\")\n",
    "plt.title(\"Distribución de minutos mensuales(Surf)\")\n",
    "\n",
    "\n",
    "plt.subplot(2, 1, 2)\n",
    "total_minutos_mensuales_ultimate[\"minutes\"].plot(kind=\"hist\",bins=35, alpha=0.5, label=\"Ultimate\",color=\"black\")\n",
    "plt.xlabel(\"Minutos mensuales\")\n",
    "plt.ylabel(\"Frecuencia\")\n",
    "plt.title(\"Distribución de minutos mensuales(Ultimate)\")\n",
    "\n",
    "\n",
    "plt.tight_layout()# Esta fucion sirve para que no se empalme las graficas\n",
    "plt.show()\n"
   ]
  },
  {
   "cell_type": "code",
   "execution_count": 32,
   "metadata": {
    "id": "oSndbAnt0q1K"
   },
   "outputs": [
    {
     "name": "stdout",
     "output_type": "stream",
     "text": [
      "Plan Surf:\n",
      "Media: 363.06296730659636\n",
      "Varianza: 5177.321155199246\n",
      "\n",
      "Plan Ultimate:\n",
      "Media: 365.97476208717234\n",
      "Varianza: 5335.727136211307\n"
     ]
    }
   ],
   "source": [
    "# Calcula la media y la varianza de la duración mensual de llamadas.\n",
    "print(\"Plan Surf:\")\n",
    "print(\"Media:\", duracion_promedio_surf[\"minutes\"].mean())\n",
    "print(\"Varianza:\", duracion_promedio_surf[\"minutes\"].var())\n",
    "\n",
    "print(\"\\nPlan Ultimate:\")\n",
    "print(\"Media:\", duracion_promedio_ultimate[\"minutes\"].mean())\n",
    "print(\"Varianza:\", duracion_promedio_ultimate[\"minutes\"].var())\n",
    "\n"
   ]
  },
  {
   "cell_type": "code",
   "execution_count": 33,
   "metadata": {
    "id": "nZzoRUKc0q1K"
   },
   "outputs": [
    {
     "data": {
      "image/png": "[encoded data removed]",
      "text/plain": [
       "<Figure size 640x480 with 2 Axes>"
      ]
     },
     "metadata": {},
     "output_type": "display_data"
    }
   ],
   "source": [
    "# Traza un diagrama de caja para visualizar la distribución de la duración mensual de llamadas\n",
    "plt.subplot(2, 1, 1)\n",
    "duracion_promedio_surf[\"minutes\"].plot(kind=\"box\", vert=False, color=\"blue\", label=\"Surf\",grid=True)\n",
    "\n",
    "plt.subplot(2, 1, 2)\n",
    "duracion_promedio_ultimate[\"minutes\"].plot(kind=\"box\", vert=False, color=\"red\", label=\"Ultimate\",xlim=(150, 460),grid=True)\n",
    "\n",
    "plt.tight_layout()\n",
    "plt.show()\n"
   ]
  },
  {
   "cell_type": "markdown",
   "metadata": {
    "id": "r627zBO50q1K"
   },
   "source": [
    "**Conclusiones**\n",
    "\n",
    "Se puede observar que el comportamiento con respecto a las llamadas es similar para los dos planes. En promedio el plan ultimate consume mas minutos por los usuarios pero tiene valores mas dispersos, es decir que hay veces que consume mucho menos y hay veces que consume mucho mas a diferencia del plan surf que tiene los valores mas centrados a la media."
   ]
  },
  {
   "cell_type": "markdown",
   "metadata": {
    "id": "8idKy8Wh0q1L"
   },
   "source": [
    "### Mensajes"
   ]
  },
  {
   "cell_type": "code",
   "execution_count": 34,
   "metadata": {
    "id": "NXLxiTit0q1L"
   },
   "outputs": [
    {
     "data": {
      "image/png": "[encoded data removed]",
      "text/plain": [
       "<Figure size 640x480 with 3 Axes>"
      ]
     },
     "metadata": {},
     "output_type": "display_data"
    }
   ],
   "source": [
    "# Comprara el número de mensajes que tienden a enviar cada mes los usuarios de cada plan\n",
    "mensajes_por_usuario= usuario_consumo.groupby([\"plan\",\"month\"])[\"messages\"].sum().reset_index()\n",
    "\n",
    "mensajes_por_usuario_surf= mensajes_por_usuario.query(\"plan == 'surf'\")\n",
    "mensajes_por_usuario_ultimate= mensajes_por_usuario.query(\"plan == 'ultimate'\")\n",
    "\n",
    "plt.subplot(221)\n",
    "plt.bar(mensajes_por_usuario_surf[\"month\"], mensajes_por_usuario_surf[\"messages\"], label=\"Surf\")\n",
    "plt.bar(mensajes_por_usuario_ultimate[\"month\"], mensajes_por_usuario_ultimate[\"messages\"], label=\"Ultimate\",alpha=0.6)\n",
    "plt.xlabel(\"Mes\")\n",
    "plt.ylabel(\"Mensajes mensuales\")\n",
    "plt.title(\"Mensajes por mes\")\n",
    "plt.legend()\n",
    "plt.xticks(mensajes_por_usuario[\"month\"].unique())\n",
    "\n",
    "plt.subplot(222)\n",
    "plt.hist(mensajes_por_usuario_surf[\"messages\"], bins=10, alpha=0.5, label=\"Surf\",color=\"blue\")\n",
    "plt.xlabel(\"Mensajes mensuales\")\n",
    "plt.ylabel(\"Frecuencia\")\n",
    "plt.title(\"Distribución de mensajes mensuales\")\n",
    "plt.legend()\n",
    "\n",
    "plt.subplot(223)\n",
    "plt.hist(mensajes_por_usuario_ultimate[\"messages\"], bins=10, alpha=0.5, label=\"Ultimate\",color=\"red\")\n",
    "plt.xlabel(\"Mensajes mensuales\")\n",
    "plt.ylabel(\"Frecuencia\")\n",
    "plt.title(\"Distribución de mensajes mensuales\")\n",
    "plt.legend()\n",
    "\n",
    "plt.tight_layout()\n",
    "plt.show()\n",
    "\n"
   ]
  },
  {
   "cell_type": "code",
   "execution_count": 35,
   "metadata": {
    "id": "GRI_R7xF0q1L"
   },
   "outputs": [
    {
     "name": "stdout",
     "output_type": "stream",
     "text": [
      "Plan Surf:\n",
      "Media: 4084.5\n",
      "Varianza: 16107218.090909092\n",
      "\n",
      "Plan Ultimate:\n",
      "Media: 2253.0833333333335\n",
      "Varianza: 4699500.992424241\n",
      "\n"
     ]
    },
    {
     "data": {
      "image/png": "[encoded data removed]",
      "text/plain": [
       "<Figure size 640x480 with 2 Axes>"
      ]
     },
     "metadata": {},
     "output_type": "display_data"
    }
   ],
   "source": [
    "# Calcula la media y la varianza de envio mensual de mensajes.\n",
    "print(\"Plan Surf:\")\n",
    "print(\"Media:\", mensajes_por_usuario_surf[\"messages\"].mean())\n",
    "print(\"Varianza:\", mensajes_por_usuario_surf[\"messages\"].var())\n",
    "\n",
    "print(\"\\nPlan Ultimate:\")\n",
    "print(\"Media:\", mensajes_por_usuario_ultimate[\"messages\"].mean())\n",
    "print(\"Varianza:\", mensajes_por_usuario_ultimate[\"messages\"].var())\n",
    "print(\"\")\n",
    "# Diagramas de caja para visualizar la distribución de mensajes al mes\n",
    "\n",
    "plt.subplot(2, 1, 1)\n",
    "mensajes_por_usuario_surf[\"messages\"].plot(kind=\"box\", vert=False, color=\"blue\", label=\"Surf\",grid=True)\n",
    "\n",
    "plt.subplot(2, 1, 2)\n",
    "mensajes_por_usuario_ultimate[\"messages\"].plot(kind=\"box\", vert=False, color=\"red\", label=\"Ultimate\",grid=True)\n",
    "\n",
    "plt.tight_layout()\n",
    "plt.show()\n"
   ]
  },
  {
   "cell_type": "markdown",
   "metadata": {
    "id": "390SSL480q1M"
   },
   "source": [
    "**Conclusiones**\n",
    "\n",
    "Sobre el comportamiento de los usuarios con respecto a los mensajes podemos ver claramente que hay mas mensajes enviados con el plan surf en total y por mes. Tambien podemos ver que los usuarios mes tras mes envian mas mensajes tanto como el plan surf como el plan ultimate pero el plan que predomina es el surf.\n",
    "\n",
    "Hay que considerar que en nuestros datos hay mas usuarios con el plan surf."
   ]
  },
  {
   "cell_type": "markdown",
   "metadata": {
    "id": "42YSypXz0q1M"
   },
   "source": [
    "### Internet"
   ]
  },
  {
   "cell_type": "code",
   "execution_count": 36,
   "metadata": {
    "id": "lSuKPtjh0q1M"
   },
   "outputs": [
    {
     "data": {
      "image/png": "[encoded data removed]",
      "text/plain": [
       "<Figure size 640x480 with 3 Axes>"
      ]
     },
     "metadata": {},
     "output_type": "display_data"
    }
   ],
   "source": [
    "# Compara la cantidad de tráfico de Internet consumido por usuarios por plan\n",
    "internet_por_usuario= usuario_consumo.groupby([\"plan\",\"month\"])[\"mb_used\"].sum().reset_index()\n",
    "internet_por_usuario[\"mb_used\"]= internet_por_usuario[\"mb_used\"]/1024\n",
    "\n",
    "internet_por_usuario_surf= internet_por_usuario.query(\"plan == 'surf'\")\n",
    "internet_por_usuario_ultimate= internet_por_usuario.query(\"plan == 'ultimate'\")\n",
    "\n",
    "plt.subplot(221)\n",
    "plt.bar(internet_por_usuario_surf[\"month\"], internet_por_usuario_surf[\"mb_used\"], label=\"Surf\")\n",
    "plt.bar(internet_por_usuario_ultimate[\"month\"], internet_por_usuario_ultimate[\"mb_used\"], label=\"Ultimate\",alpha=0.6)\n",
    "plt.xlabel(\"Mes\")\n",
    "plt.ylabel(\"Internet consumido (GB)\")\n",
    "plt.title(\"Internet consumido por mes\")\n",
    "plt.legend()\n",
    "plt.xticks(internet_por_usuario[\"month\"].unique())\n",
    "\n",
    "plt.subplot(222)\n",
    "plt.hist(internet_por_usuario_surf[\"mb_used\"], bins=10, alpha=0.5, label=\"Surf\",color=\"blue\")\n",
    "plt.xlabel(\"Internet consumido (GB)\")\n",
    "plt.ylabel(\"Frecuencia\")\n",
    "plt.title(\"Distribución de Internet consumido\")\n",
    "plt.legend()\n",
    "\n",
    "plt.subplot(223)\n",
    "plt.hist(internet_por_usuario_ultimate[\"mb_used\"], bins=10, alpha=0.5, label=\"Ultimate\",color=\"red\")\n",
    "plt.xlabel(\"Internet consumido (GB)\")\n",
    "plt.ylabel(\"Frecuencia\")\n",
    "plt.title(\"Distribución de Internet consumido\")\n",
    "plt.legend()\n",
    "\n",
    "plt.tight_layout()\n",
    "plt.show()"
   ]
  },
  {
   "cell_type": "code",
   "execution_count": 37,
   "metadata": {
    "id": "wnh8jYXi0q1N"
   },
   "outputs": [
    {
     "name": "stdout",
     "output_type": "stream",
     "text": [
      "Plan Surf:\n",
      "Media: 2119.643548990885\n",
      "Varianza: 3523070.5525748045\n",
      "\n",
      "Plan Ultimate:\n",
      "Media: 1008.673810221354\n",
      "Varianza: 746303.2085918416\n",
      "\n"
     ]
    },
    {
     "data": {
      "image/png": "[encoded data removed]",
      "text/plain": [
       "<Figure size 640x480 with 2 Axes>"
      ]
     },
     "metadata": {},
     "output_type": "display_data"
    }
   ],
   "source": [
    "# Calcula la media y la varianza del tráfico de Internet consumido por usuarios por plan\n",
    "print(\"Plan Surf:\")\n",
    "print(\"Media:\", internet_por_usuario_surf[\"mb_used\"].mean())\n",
    "print(\"Varianza:\", internet_por_usuario_surf[\"mb_used\"].var())\n",
    "\n",
    "print(\"\\nPlan Ultimate:\")\n",
    "print(\"Media:\", internet_por_usuario_ultimate[\"mb_used\"].mean())\n",
    "print(\"Varianza:\", internet_por_usuario_ultimate[\"mb_used\"].var())\n",
    "print(\"\")\n",
    "# Diagramas de caja para visualizar la distribución del tráfico de Internet consumido por usuarios por plan\n",
    "plt.subplot(2, 1, 1)\n",
    "internet_por_usuario_surf[\"mb_used\"].plot(kind=\"box\", vert=False, color=\"blue\", label=\"Surf\",grid=True)\n",
    "\n",
    "plt.subplot(2, 1, 2)\n",
    "internet_por_usuario_ultimate[\"mb_used\"].plot(kind=\"box\", vert=False, color=\"red\", label=\"Ultimate\",grid=True)\n",
    "\n",
    "plt.tight_layout()\n",
    "plt.show()\n"
   ]
  },
  {
   "cell_type": "markdown",
   "metadata": {
    "id": "UN9zwuMP0q1N"
   },
   "source": [
    "**Conclusiones**\n",
    "\n",
    "Aqui es el mismo caso como el de mensajes, mes tras mes va aumentando el consumo de datos para ambos planes pero el que predomina es el plan surf, talves sea porque hay mas usuarios en el plan surf."
   ]
  },
  {
   "cell_type": "markdown",
   "metadata": {
    "id": "tCijq3260q1N"
   },
   "source": [
    "## Ingreso"
   ]
  },
  {
   "cell_type": "code",
   "execution_count": 38,
   "metadata": {
    "id": "tz-dq_V00q1O"
   },
   "outputs": [
    {
     "data": {
      "image/png": "[encoded data removed]",
      "text/plain": [
       "<Figure size 640x480 with 3 Axes>"
      ]
     },
     "metadata": {},
     "output_type": "display_data"
    }
   ],
   "source": [
    "ingreso_mensual_por_plan= usuario_consumo.groupby([\"plan\",\"month\"])[\"tarifa_mensual\"].sum().reset_index()\n",
    "\n",
    "ingreso_mensual_surf= ingreso_mensual_por_plan.query(\"plan == 'surf'\")\n",
    "ingreso_mensual_ultimate= ingreso_mensual_por_plan.query(\"plan == 'ultimate'\")\n",
    "\n",
    "plt.subplot(221)\n",
    "plt.bar(ingreso_mensual_surf[\"month\"], ingreso_mensual_surf[\"tarifa_mensual\"], label=\"Surf\")\n",
    "plt.bar(ingreso_mensual_ultimate[\"month\"], ingreso_mensual_ultimate[\"tarifa_mensual\"], label=\"Ultimate\",alpha=0.6)\n",
    "plt.xlabel(\"Mes\")\n",
    "plt.ylabel(\"Ingreso mensual\")\n",
    "plt.title(\"Ingreso mensual por mes\")\n",
    "plt.legend()\n",
    "plt.xticks(ingreso_mensual_por_plan[\"month\"].unique())\n",
    "\n",
    "plt.subplot(222)\n",
    "plt.hist(ingreso_mensual_surf[\"tarifa_mensual\"], bins=10, alpha=0.5, label=\"Surf\",color=\"blue\")\n",
    "plt.xlabel(\"Ingreso mensual\")\n",
    "plt.ylabel(\"Frecuencia\")\n",
    "plt.title(\"Distribución de ingresos mensuales\")\n",
    "plt.legend()\n",
    "\n",
    "plt.subplot(223)\n",
    "plt.hist(ingreso_mensual_ultimate[\"tarifa_mensual\"], bins=10, alpha=0.5, label=\"Ultimate\",color=\"red\")\n",
    "plt.xlabel(\"Ingreso mensual\")\n",
    "plt.ylabel(\"Frecuencia\")\n",
    "plt.title(\"Distribución de ingresos mensuales\")\n",
    "plt.legend()\n",
    "\n",
    "plt.tight_layout()\n",
    "plt.show()\n"
   ]
  },
  {
   "cell_type": "code",
   "execution_count": 39,
   "metadata": {
    "id": "0Y1v8ZUz0q1P"
   },
   "outputs": [
    {
     "name": "stdout",
     "output_type": "stream",
     "text": [
      "Plan Surf:\n",
      "Media: 7907.909633333334\n",
      "Varianza: 52760292.5511724\n",
      "\n",
      "Plan Ultimate:\n",
      "Media: 4338.833333333333\n",
      "Varianza: 12764516.333333336\n",
      "\n"
     ]
    },
    {
     "data": {
      "image/png": "[encoded data removed]",
      "text/plain": [
       "<Figure size 640x480 with 2 Axes>"
      ]
     },
     "metadata": {},
     "output_type": "display_data"
    }
   ],
   "source": [
    "# Calcula la media y la varianza del tráfico de Internet consumido por usuarios por plan\n",
    "print(\"Plan Surf:\")\n",
    "print(\"Media:\", ingreso_mensual_surf[\"tarifa_mensual\"].mean())\n",
    "print(\"Varianza:\", ingreso_mensual_surf[\"tarifa_mensual\"].var())\n",
    "\n",
    "print(\"\\nPlan Ultimate:\")\n",
    "print(\"Media:\", ingreso_mensual_ultimate[\"tarifa_mensual\"].mean())\n",
    "print(\"Varianza:\", ingreso_mensual_ultimate[\"tarifa_mensual\"].var())\n",
    "print(\"\")\n",
    "# Diagramas de caja para visualizar la distribución del tráfico de Internet consumido por usuarios por plan\n",
    "plt.subplot(2, 1, 1)\n",
    "ingreso_mensual_surf[\"tarifa_mensual\"].plot(kind=\"box\", vert=False, color=\"blue\", label=\"Surf\",grid=True)\n",
    "\n",
    "plt.subplot(2, 1, 2)\n",
    "ingreso_mensual_ultimate[\"tarifa_mensual\"].plot(kind=\"box\", vert=False, color=\"red\", label=\"Ultimate\",grid=True)\n",
    "\n",
    "plt.tight_layout()\n",
    "plt.show()\n",
    "\n"
   ]
  },
  {
   "cell_type": "markdown",
   "metadata": {
    "id": "KAFidcXZ0q1P"
   },
   "source": [
    "**Conclusiones**\n",
    "\n",
    "Claramente hay mas ingresos con el plan surf."
   ]
  },
  {
   "cell_type": "markdown",
   "metadata": {},
   "source": [
    "<div class=\"alert alert-block alert-success\">\n",
    "<b>Comentario del revisor (1ra Iteración)</b> <a class=“tocSkip”></a>\n",
    "\n",
    "Excelente elección para las visualizaciones de datos. Además, calculaste correctamente la información estadística de cada distribución de datos, tanto para el consumo de minutos, mensajes e internet, como para los ingresos asociados a los cobros mensuales en cada plan. Esto permite identificar patrones de comportamiento en los usuarios y extraer información valiosa para la compañía.\n",
    "\n",
    "</div>"
   ]
  },
  {
   "cell_type": "markdown",
   "metadata": {
    "id": "ajJ7VKeI0q1Q"
   },
   "source": [
    "## Prueba las hipótesis estadísticas"
   ]
  },
  {
   "cell_type": "code",
   "execution_count": 40,
   "metadata": {
    "id": "nFoPNlPq0q1R"
   },
   "outputs": [
    {
     "name": "stdout",
     "output_type": "stream",
     "text": [
      "valor p: 3.5320199509520717e-16\n",
      "Rechazar la hipótesis nula: Los ingresos promedio de los usuarios de los planes Ultimate y Surf son diferentes.\n"
     ]
    }
   ],
   "source": [
    "#Hipotesis nula: Los ingresos promedio de los usuarios de los planes Ultimate y Surf son iguales.\n",
    "#Hipotesis alternativa: Los ingresos promedio de los usuarios de los planes Ultimate y Surf son diferentes.\n",
    "# Prueba las hipótesis\n",
    "\n",
    "alpha=0.05\n",
    "\n",
    "plan_surf = usuario_consumo[usuario_consumo[\"plan\"] == \"surf\"][\"tarifa_mensual\"]\n",
    "plan_ultimate = usuario_consumo[usuario_consumo[\"plan\"] == \"ultimate\"][\"tarifa_mensual\"]\n",
    "\n",
    "# Realiza la prueba t de Student\n",
    "results = st.ttest_ind(plan_surf,plan_ultimate,equal_var=False)\n",
    "\n",
    "print('valor p:', results.pvalue)\n",
    "\n",
    "if results.pvalue < alpha:\n",
    "  print(\"Rechazar la hipótesis nula: Los ingresos promedio de los usuarios de los planes Ultimate y Surf son diferentes.\")\n",
    "else:\n",
    "  print(\"No rechazar la hipótesis nula\")\n",
    "\n"
   ]
  },
  {
   "cell_type": "code",
   "execution_count": 41,
   "metadata": {},
   "outputs": [],
   "source": [
    "#Agrege la columna city al DataFrame usuario_consumo\n",
    "columns= [\"user_id\",\"month\",\"calls\",\"minutes\",\"messages\",\"mb_used\",\"plan\",\"tarifa_mensual\",\"city\"]\n",
    "usuario_consumo= usuario_consumo.merge(users[[\"user_id\", \"city\"]], on=\"user_id\", how=\"left\")[columns]"
   ]
  },
  {
   "cell_type": "code",
   "execution_count": 42,
   "metadata": {
    "id": "Cqcj7wrZ0q1S",
    "scrolled": true
   },
   "outputs": [
    {
     "name": "stdout",
     "output_type": "stream",
     "text": [
      "valor p: 0.04073944362703139\n",
      "Rechazar la hipótesis nula: El ingreso promedio de los usuarios del área NY-NJ es diferente al de los usuarios de otras regiones.\n"
     ]
    }
   ],
   "source": [
    "# Hipotesis nula: El ingreso promedio de los usuarios del área NY-NJ es igual al de los usuarios de otras regiones.\n",
    "# Hipotesis alternativa: El ingreso promedio de los usuarios del área NY-NJ es diferente al de los usuarios de otras regiones.\n",
    "# Prueba las hipótesis\n",
    "\n",
    "alpha = 0.05\n",
    "\n",
    "\n",
    "ingreso_nynj = usuario_consumo[usuario_consumo['city'] == 'New York-Newark-Jersey City, NY-NJ-PA MSA']['tarifa_mensual']\n",
    "ingreso_otras_regiones = usuario_consumo[usuario_consumo['city'] != 'New York-Newark-Jersey City, NY-NJ-PA MSA']['tarifa_mensual']\n",
    "\n",
    "# Realiza la prueba t de Student\n",
    "results = st.ttest_ind(ingreso_nynj, ingreso_otras_regiones)\n",
    "\n",
    "print('valor p:', results.pvalue)\n",
    "\n",
    "if results.pvalue < alpha:\n",
    "    print(\"Rechazar la hipótesis nula: El ingreso promedio de los usuarios del área NY-NJ es diferente al de los usuarios de otras regiones.\")\n",
    "else:\n",
    "    print(\"No rechazar la hipótesis nula: No hay suficiente evidencia para decir que el ingreso promedio de los usuarios del área NY-NJ es diferente al de los usuarios de otras regiones.\")\n",
    "\n"
   ]
  },
  {
   "cell_type": "markdown",
   "metadata": {},
   "source": [
    "<div class=\"alert alert-block alert-success\">\n",
    "<b>Comentario del revisor (1ra Iteración)</b> <a class=“tocSkip”></a>\n",
    "\n",
    "Edgar aplicaste correctamente las pruebas de hipótesis comparando la distribución de dos muestras independientes e interpretando de manera acertada el *p-value* obtenido y su relación con la hipótesis nula\n",
    "\n",
    "<div class=\"alert alert-block alert-warning\">\n",
    "<b>Comentario del revisor (1ra Iteración)</b> <a class=“tocSkip”></a>\n",
    "\n",
    "Te recomiendo realizar previamente una prueba de  [Levene](https://www.educaopen.com/digital-lab/blog/educacion-digital/prueba-de-levene) para evaluar la igualdad de las varianzas, lo que te permitirá configurar adecuadamente el parámetro **equal_var** en la función `ttest_ind`. Esto te brindará una interpretación más precisa de los resultados además garantizará que la prueba t sea estadísticamente válida.\n",
    "\n",
    "</div>\n",
    "</div>"
   ]
  },
  {
   "cell_type": "markdown",
   "metadata": {
    "id": "bbTR8UQO0q1T"
   },
   "source": [
    "## Conclusión general\n",
    "\n",
    "En este proyecto resalta la importancia de la preparacion de los datos para despues poder analizarlos con estudios estadisticos y expresarlos mejor con graficas. Tambien con los datos preparados podemos obtener probabilidades de igualdades de ingresos entre planes o entre usuarios por decir algunos ejemplos.\n",
    "\n",
    "En este proyecto me enseño como graficar varias graficas en el mismo codigo usando la funcion subplot de la libreria matplotlib que creo que es una funcion muy oportuna al momento de querer demostrar varias graficas de la misma informacion."
   ]
  },
  {
   "cell_type": "markdown",
   "metadata": {},
   "source": [
    "<div class=\"alert alert-block alert-success\">\n",
    "<b>Comentario del revisor (1ra Iteración)</b> <a class=“tocSkip”></a>\n",
    "\n",
    "Has logrado reconocer con claridad cómo una preparación cuidadosa de los datos facilita la aplicación de métodos estadísticos y el uso efectivo de visualizaciones para comunicar hallazgos. \n",
    "\n",
    "</div>"
   ]
  }
 ],
 "metadata": {
  "ExecuteTimeLog": [
   {
    "duration": 828,
    "start_time": "2021-11-16T09:21:11.304Z"
   },
   {
    "duration": 893,
    "start_time": "2021-11-16T09:21:17.728Z"
   },
   {
    "duration": 1150,
    "start_time": "2021-11-16T09:21:29.568Z"
   },
   {
    "duration": 3,
    "start_time": "2021-11-16T09:24:14.495Z"
   },
   {
    "duration": 120,
    "start_time": "2021-11-16T09:24:46.630Z"
   },
   {
    "duration": 3,
    "start_time": "2021-11-16T09:28:27.882Z"
   },
   {
    "duration": 4,
    "start_time": "2021-11-16T09:29:54.281Z"
   },
   {
    "duration": 3,
    "start_time": "2021-11-16T09:30:45.936Z"
   },
   {
    "duration": 4,
    "start_time": "2021-11-16T09:31:06.300Z"
   },
   {
    "duration": 113,
    "start_time": "2021-11-16T09:31:37.208Z"
   },
   {
    "duration": 143,
    "start_time": "2021-11-16T09:31:48.656Z"
   },
   {
    "duration": 98,
    "start_time": "2021-11-16T09:31:55.678Z"
   },
   {
    "duration": 3,
    "start_time": "2021-11-16T09:32:08.535Z"
   },
   {
    "duration": 111,
    "start_time": "2021-11-16T09:32:10.120Z"
   },
   {
    "duration": 3,
    "start_time": "2021-11-16T09:32:15.732Z"
   },
   {
    "duration": 4,
    "start_time": "2021-11-16T09:32:29.423Z"
   },
   {
    "duration": 3,
    "start_time": "2021-11-16T10:03:03.074Z"
   },
   {
    "duration": 3,
    "start_time": "2021-11-16T10:10:01.288Z"
   },
   {
    "duration": 3,
    "start_time": "2021-11-16T10:10:46.923Z"
   },
   {
    "duration": 121,
    "start_time": "2021-11-16T10:37:46.494Z"
   },
   {
    "duration": 125,
    "start_time": "2021-11-16T10:38:20.632Z"
   },
   {
    "duration": 112,
    "start_time": "2021-11-16T10:46:53.001Z"
   },
   {
    "duration": 110,
    "start_time": "2021-11-16T10:48:25.775Z"
   },
   {
    "duration": 3,
    "start_time": "2021-11-16T10:50:18.720Z"
   },
   {
    "duration": 4,
    "start_time": "2021-11-16T10:50:37.649Z"
   },
   {
    "duration": 2,
    "start_time": "2021-11-16T10:50:51.884Z"
   },
   {
    "duration": 3,
    "start_time": "2021-11-16T10:51:56.237Z"
   },
   {
    "duration": 101,
    "start_time": "2021-11-16T10:53:13.791Z"
   },
   {
    "duration": 3,
    "start_time": "2021-11-16T10:55:59.186Z"
   },
   {
    "duration": 3,
    "start_time": "2021-11-16T10:56:10.751Z"
   },
   {
    "duration": 3,
    "start_time": "2021-11-16T10:56:49.038Z"
   },
   {
    "duration": 3,
    "start_time": "2021-11-16T10:56:49.174Z"
   },
   {
    "duration": 4,
    "start_time": "2021-11-16T10:56:49.414Z"
   },
   {
    "duration": 3,
    "start_time": "2021-11-16T10:56:49.680Z"
   },
   {
    "duration": 3,
    "start_time": "2021-11-16T10:56:50.370Z"
   },
   {
    "duration": 114,
    "start_time": "2021-11-16T10:59:34.518Z"
   },
   {
    "duration": 3,
    "start_time": "2021-11-16T11:01:41.201Z"
   },
   {
    "duration": 116,
    "start_time": "2021-11-16T11:01:48.754Z"
   },
   {
    "duration": 3,
    "start_time": "2021-11-16T11:02:16.685Z"
   },
   {
    "duration": 3,
    "start_time": "2021-11-16T11:02:19.479Z"
   },
   {
    "duration": 3,
    "start_time": "2021-11-16T11:02:47.067Z"
   },
   {
    "duration": 3,
    "start_time": "2021-11-16T11:02:49.353Z"
   },
   {
    "duration": 3,
    "start_time": "2021-11-16T11:03:07.835Z"
   },
   {
    "duration": 3,
    "start_time": "2021-11-16T11:03:07.953Z"
   },
   {
    "duration": 112,
    "start_time": "2021-11-16T11:07:52.072Z"
   },
   {
    "duration": 187,
    "start_time": "2021-11-16T11:09:23.468Z"
   },
   {
    "duration": 4,
    "start_time": "2021-11-16T11:10:01.455Z"
   },
   {
    "duration": 3,
    "start_time": "2021-11-16T11:10:05.069Z"
   },
   {
    "duration": 4,
    "start_time": "2021-11-16T11:10:13.376Z"
   },
   {
    "duration": 3,
    "start_time": "2021-11-16T11:10:14.434Z"
   },
   {
    "duration": 3,
    "start_time": "2021-11-16T11:10:22.853Z"
   },
   {
    "duration": 4,
    "start_time": "2021-11-16T11:27:29.279Z"
   },
   {
    "duration": 4,
    "start_time": "2021-11-16T11:29:08.919Z"
   },
   {
    "duration": 118,
    "start_time": "2021-11-16T11:29:46.703Z"
   },
   {
    "duration": 437,
    "start_time": "2021-11-16T11:36:02.181Z"
   },
   {
    "duration": 157,
    "start_time": "2021-11-16T11:36:14.388Z"
   },
   {
    "duration": 207,
    "start_time": "2021-11-16T11:47:15.898Z"
   },
   {
    "duration": 3,
    "start_time": "2021-11-16T11:53:52.092Z"
   },
   {
    "duration": 3,
    "start_time": "2021-11-16T11:53:52.236Z"
   },
   {
    "duration": 3,
    "start_time": "2021-11-16T11:59:12.005Z"
   },
   {
    "duration": 112,
    "start_time": "2021-11-16T12:00:33.446Z"
   },
   {
    "duration": 3,
    "start_time": "2021-11-16T12:02:14.453Z"
   },
   {
    "duration": 3,
    "start_time": "2021-11-16T12:02:39.512Z"
   },
   {
    "duration": 106,
    "start_time": "2021-11-16T12:03:03.460Z"
   },
   {
    "duration": 3,
    "start_time": "2021-11-17T20:37:21.139Z"
   },
   {
    "duration": 3,
    "start_time": "2021-11-17T20:37:22.229Z"
   },
   {
    "duration": 3,
    "start_time": "2021-11-17T20:38:38.806Z"
   },
   {
    "duration": 3,
    "start_time": "2021-11-17T20:38:41.958Z"
   },
   {
    "duration": 3,
    "start_time": "2021-11-17T20:43:46.551Z"
   },
   {
    "duration": 4,
    "start_time": "2021-11-17T20:58:21.835Z"
   },
   {
    "duration": 3,
    "start_time": "2021-11-17T20:59:21.872Z"
   },
   {
    "duration": 4,
    "start_time": "2021-11-17T20:59:45.352Z"
   },
   {
    "duration": 4,
    "start_time": "2021-11-17T20:59:49.646Z"
   },
   {
    "duration": 159,
    "start_time": "2021-11-17T21:02:26.949Z"
   },
   {
    "duration": 3,
    "start_time": "2021-11-17T21:03:53.461Z"
   },
   {
    "duration": 3,
    "start_time": "2021-11-17T21:03:53.694Z"
   },
   {
    "duration": 3,
    "start_time": "2021-11-17T21:05:28.145Z"
   },
   {
    "duration": 116,
    "start_time": "2021-11-17T21:05:57.787Z"
   },
   {
    "duration": 3,
    "start_time": "2021-11-17T21:06:37.993Z"
   },
   {
    "duration": 3,
    "start_time": "2021-11-17T21:06:38.261Z"
   },
   {
    "duration": 3,
    "start_time": "2021-11-17T21:11:54.358Z"
   },
   {
    "duration": 3,
    "start_time": "2021-11-17T21:12:43.846Z"
   },
   {
    "duration": 4,
    "start_time": "2021-11-17T21:13:08.773Z"
   },
   {
    "duration": 3,
    "start_time": "2021-11-17T21:14:44.441Z"
   },
   {
    "duration": 3,
    "start_time": "2021-11-17T21:15:42.059Z"
   },
   {
    "duration": 4,
    "start_time": "2021-11-17T21:15:51.995Z"
   },
   {
    "duration": 3,
    "start_time": "2021-11-17T21:15:53.923Z"
   },
   {
    "duration": 3,
    "start_time": "2021-11-17T21:15:55.282Z"
   },
   {
    "duration": 3,
    "start_time": "2021-11-17T21:16:28.492Z"
   },
   {
    "duration": 3,
    "start_time": "2021-11-17T21:16:32.603Z"
   },
   {
    "duration": 3,
    "start_time": "2021-11-17T21:17:06.941Z"
   },
   {
    "duration": 98,
    "start_time": "2021-11-17T21:18:05.733Z"
   },
   {
    "duration": 4,
    "start_time": "2021-11-17T21:21:35.255Z"
   },
   {
    "duration": 3,
    "start_time": "2021-11-17T21:21:37.804Z"
   },
   {
    "duration": 4,
    "start_time": "2021-11-17T21:23:06.071Z"
   },
   {
    "duration": 3,
    "start_time": "2021-11-17T21:23:24.799Z"
   },
   {
    "duration": 3,
    "start_time": "2021-11-17T21:23:32.591Z"
   },
   {
    "duration": 98,
    "start_time": "2021-11-17T21:28:31.559Z"
   },
   {
    "duration": 3,
    "start_time": "2021-11-17T21:28:45.448Z"
   },
   {
    "duration": 3,
    "start_time": "2021-11-17T21:29:17.303Z"
   },
   {
    "duration": 3,
    "start_time": "2021-11-17T21:29:29.617Z"
   },
   {
    "duration": 3,
    "start_time": "2021-11-17T21:29:32.681Z"
   },
   {
    "duration": 3,
    "start_time": "2021-11-17T21:36:11.474Z"
   },
   {
    "duration": 3,
    "start_time": "2021-11-17T21:36:14.791Z"
   },
   {
    "duration": 3,
    "start_time": "2021-11-17T21:36:53.943Z"
   },
   {
    "duration": 3,
    "start_time": "2021-11-17T21:36:56.165Z"
   },
   {
    "duration": 4,
    "start_time": "2021-11-17T21:37:16.590Z"
   },
   {
    "duration": 3,
    "start_time": "2021-11-17T21:37:22.702Z"
   },
   {
    "duration": 4,
    "start_time": "2021-11-17T21:38:03.479Z"
   },
   {
    "duration": 3,
    "start_time": "2021-11-17T21:38:08.601Z"
   },
   {
    "duration": 3,
    "start_time": "2021-11-17T21:38:12.928Z"
   },
   {
    "duration": 3,
    "start_time": "2021-11-17T21:38:48.896Z"
   },
   {
    "duration": 2,
    "start_time": "2021-11-17T21:38:49.171Z"
   },
   {
    "duration": 4,
    "start_time": "2021-11-17T21:39:57.889Z"
   },
   {
    "duration": 3,
    "start_time": "2021-11-17T21:39:58.057Z"
   },
   {
    "duration": 3,
    "start_time": "2021-11-17T21:41:20.108Z"
   },
   {
    "duration": 3,
    "start_time": "2021-11-17T21:41:20.629Z"
   },
   {
    "duration": 3,
    "start_time": "2021-11-17T21:42:49.136Z"
   },
   {
    "duration": 3,
    "start_time": "2021-11-17T21:43:15.137Z"
   },
   {
    "duration": 4,
    "start_time": "2021-11-17T21:43:16.766Z"
   },
   {
    "duration": 4,
    "start_time": "2021-11-17T21:43:31.711Z"
   },
   {
    "duration": 3,
    "start_time": "2021-11-17T21:43:36.312Z"
   },
   {
    "duration": 4,
    "start_time": "2021-11-17T21:45:08.825Z"
   },
   {
    "duration": 4,
    "start_time": "2021-11-17T21:45:10.119Z"
   },
   {
    "duration": 4,
    "start_time": "2021-11-17T21:45:13.748Z"
   },
   {
    "duration": 3,
    "start_time": "2021-11-17T21:45:22.219Z"
   },
   {
    "duration": 3,
    "start_time": "2021-11-17T21:45:33.412Z"
   },
   {
    "duration": 2,
    "start_time": "2021-11-17T21:46:01.885Z"
   },
   {
    "duration": 3,
    "start_time": "2021-11-17T21:46:03.628Z"
   },
   {
    "duration": 107,
    "start_time": "2021-11-17T21:47:32.512Z"
   },
   {
    "duration": 103,
    "start_time": "2021-11-17T21:50:36.243Z"
   },
   {
    "duration": 3,
    "start_time": "2021-11-18T06:28:31.440Z"
   },
   {
    "duration": 3,
    "start_time": "2021-11-18T06:29:00.168Z"
   },
   {
    "duration": 3,
    "start_time": "2021-11-18T06:31:27.008Z"
   },
   {
    "duration": 2,
    "start_time": "2021-11-18T06:35:34.288Z"
   },
   {
    "duration": 2,
    "start_time": "2021-11-18T06:38:04.527Z"
   }
  ],
  "colab": {
   "provenance": []
  },
  "kernelspec": {
   "display_name": "Python 3 (ipykernel)",
   "language": "python",
   "name": "python3"
  },
  "language_info": {
   "codemirror_mode": {
    "name": "ipython",
    "version": 3
   },
   "file_extension": ".py",
   "mimetype": "text/x-python",
   "name": "python",
   "nbconvert_exporter": "python",
   "pygments_lexer": "ipython3",
   "version": "3.9.23"
  },
  "toc": {
   "base_numbering": 1,
   "nav_menu": {},
   "number_sections": true,
   "sideBar": true,
   "skip_h1_title": false,
   "title_cell": "Table of Contents",
   "title_sidebar": "Contents",
   "toc_cell": false,
   "toc_position": {},
   "toc_section_display": true,
   "toc_window_display": true
  }
 },
 "nbformat": 4,
 "nbformat_minor": 4
}
